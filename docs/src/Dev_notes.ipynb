{
 "cells": [
  {
   "cell_type": "markdown",
   "metadata": {},
   "source": [
    "# File structure\n",
    "\n",
    "```\n",
    "ADDM.JL/\n",
    "├── Project.toml\n",
    "└── src\n",
    "    └── addm.jl\n",
    "```"
   ]
  },
  {
   "cell_type": "markdown",
   "metadata": {},
   "source": [
    "# Activate project environment\n",
    "\n",
    "`]` to enter `Pkg` then\n",
    "\n",
    "```julia\n",
    "(@v1.9) pkg> activate .\n",
    "  Activating project at `~/Documents/RangelLab/aDDM-Toolbox/ADDM.jl`\n",
    "```\n",
    "\n",
    "`⌫` to exit `Pkg` then\n",
    "\n",
    "```julia\n",
    "julia> using Distributions\n",
    "```"
   ]
  },
  {
   "cell_type": "markdown",
   "metadata": {},
   "source": [
    "# Packaging tools\n",
    "\n",
    "## Artifacts\n",
    "\n",
    "Might be useful to store sample data and/or metanalysis data.\n",
    "\n",
    "[Artifacts](https://pkgdocs.julialang.org/v1/artifacts/)\n",
    "```\n",
    "Artifacts can be used to bundle chunks of data alongside your package, or even allow them to be downloaded on-demand. Prefer artifacts over attempting to open a file via a path such as joinpath(@__DIR__, \"data\", \"my_dataset.csv\") as this is non-relocatable. Once your package has been precompiled, the result of @__DIR__ will have been baked into your precompiled package data, and if you attempt to distribute this package, it will attempt to load files at the wrong location. Artifacts can be bundled and accessed easily using the artifact\"name\" string macro.\n",
    "```"
   ]
  },
  {
   "cell_type": "markdown",
   "metadata": {},
   "source": [
    "## PkgTemplates\n",
    "\n",
    "For reference see the sample empty package using `PkgTemplates.jl` in\n",
    "\n",
    "```\n",
    "/Users/zenkavi/.julia/dev/MyPkg\n",
    "``` \n",
    "\n",
    "This was initialized by \n",
    "\n",
    "```\n",
    "using PkgTemplates\n",
    "t = Template(user = \"zenkavi\")\n",
    "t(\"MyPkg\")\n",
    "```"
   ]
  },
  {
   "cell_type": "markdown",
   "metadata": {},
   "source": [
    "# Documentation\n",
    "\n",
    "Julia guidelines are strict. They are described [here](https://docs.julialang.org/en/v1/manual/documentation/)."
   ]
  },
  {
   "cell_type": "markdown",
   "metadata": {},
   "source": []
  }
 ],
 "metadata": {
  "kernelspec": {
   "display_name": "Julia 1.9.3",
   "language": "julia",
   "name": "julia-1.9"
  },
  "language_info": {
   "name": "julia"
  }
 },
 "nbformat": 4,
 "nbformat_minor": 2
}
