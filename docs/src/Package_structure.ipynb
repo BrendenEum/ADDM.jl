{
 "cells": [
  {
   "cell_type": "markdown",
   "metadata": {},
   "source": [
    "File structure\n",
    "\n",
    "```\n",
    "ADDM.JL/\n",
    "├── Project.toml\n",
    "└── src\n",
    "    └── addm.jl\n",
    "```"
   ]
  },
  {
   "cell_type": "markdown",
   "metadata": {},
   "source": [
    "(Potential) Intended usage\n",
    "\n",
    "```\n",
    "julia> import addm\n",
    "\n",
    "julia> my_addm = addm.define_model(d = 0.005, σ = 0.07, θ = 0.3)\n",
    "\n",
    "julia> sim_data = addm.simulate_trials(n = 1000, model = my_addm)\n",
    "\n",
    "julia> addm.grid_search(model = my_addm, data = sim_data, search_grid = \"path/to/file\")\n",
    "Beginning grid search...\n",
    "```"
   ]
  },
  {
   "cell_type": "markdown",
   "metadata": {},
   "source": []
  }
 ],
 "metadata": {
  "kernelspec": {
   "display_name": "Julia 1.9.3",
   "language": "julia",
   "name": "julia-1.9"
  },
  "language_info": {
   "name": "julia"
  }
 },
 "nbformat": 4,
 "nbformat_minor": 2
}
