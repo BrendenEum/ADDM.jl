{
 "cells": [
  {
   "cell_type": "markdown",
   "metadata": {},
   "source": [
    "# Estimating the aDDM\n",
    "\n",
    "Author: Brenden Eum (2023)\n",
    "\n",
    "This script will read already-transformed data containing trial-by-trial details and fixations and fit the aDDM to this data. It uses the Tavares Toolbox (Tavares et al. 2017) rewritten for Julia by Lynn in Summer 2023. See https://github.com/aDDM-Toolbox/ADDM.jl for the toolbox. \n",
    "\n",
    "I've made a changes to the toolbox in order to suit my project. Some of these are small changes, like changing object types, saving outputs to csv files, or changing the grid for grid search. I don't document small changes since they'll probably change over multiple iterations. I do document major changes to the toolbox: (1) The toolbox now fits the model to the output of load_data_from_csv instead of simulating data; (2) The toolbox no longer throws a domain error when $\\theta \\notin [0,1]$.\n",
    "\n",
    "Inputs for this notebook:\n",
    "- Data\n",
    "    - data/expdata*.csv:    Data pertaining to the details of each trial. An observation is a subject-trial. It must include the following columns [parcode,trial,rt,choice,item_left,item_right], which correspond to [subject, trial, response time in ms, choice (-1 left, 1 right), value of left item, value of right item] respectively.\n",
    "    - data/fixations*.csv:  Data pertaining to the fixations within each trial. An observation is a subject-trial-fixation. It must include columns [parcode,trial,fix_item,fix_time], which correspond to [subject, trial, fixation location (1 left, 2 right, otherwise other), fixation duration in ms].\n",
    "- Code\n",
    "    - src/ addm_grid_search.jl: Takes a grid of parameters, makes every combination, and calculates negative log likelihood (NLL) of aDDM for every combo given some data.\n",
    "    - addm.jl: Defines aDDM class and functions for calculating trial likelihood, summing likelihoods, and simulating.\n",
    "    - ddm.jl: Defines DDM class and functions for calculating trial likelihood, summing likelihoods, and simulating.\n",
    "    - util.jl: Contains functions for prepping data for aDDM fitting and estimating empirical fixation properties.\n",
    "\n",
    "\n",
    "Outputs for this notebook:\n",
    "- GainFit.csv:  aDDM estimates for the gain condition. Estimates are for subjects included in the input datasets.\n",
    "- LossFit.csv:  aDDM estimates for the loss condition."
   ]
  },
  {
   "cell_type": "markdown",
   "metadata": {},
   "source": [
    "# Preamble\n",
    "\n",
    "A set of standard things I like to do before getting started with any notebook."
   ]
  },
  {
   "cell_type": "code",
   "execution_count": 1,
   "metadata": {},
   "outputs": [
    {
     "name": "stderr",
     "output_type": "stream",
     "text": [
      "\u001b[33m\u001b[1m┌ \u001b[22m\u001b[39m\u001b[33m\u001b[1mWarning: \u001b[22m\u001b[39mcould not download https://pkg.julialang.org/registries\n",
      "\u001b[33m\u001b[1m│ \u001b[22m\u001b[39m  exception = RequestError: Could not resolve host: pkg.julialang.org while requesting https://pkg.julialang.org/registries\n",
      "\u001b[33m\u001b[1m└ \u001b[22m\u001b[39m\u001b[90m@ Pkg.Registry /opt/homebrew/Cellar/julia/1.9.3/share/julia/stdlib/v1.9/Pkg/src/Registry/Registry.jl:69\u001b[39m\n",
      "\u001b[32m\u001b[1m   Resolving\u001b[22m\u001b[39m package versions...\n",
      "\u001b[32m\u001b[1m  No Changes\u001b[22m\u001b[39m to `~/.julia/environments/v1.9/Project.toml`\n",
      "\u001b[32m\u001b[1m  No Changes\u001b[22m\u001b[39m to `~/.julia/environments/v1.9/Manifest.toml`\n",
      "\u001b[32m\u001b[1m   Resolving\u001b[22m\u001b[39m package versions...\n",
      "\u001b[32m\u001b[1m  No Changes\u001b[22m\u001b[39m to `~/.julia/environments/v1.9/Project.toml`\n",
      "\u001b[32m\u001b[1m  No Changes\u001b[22m\u001b[39m to `~/.julia/environments/v1.9/Manifest.toml`\n"
     ]
    }
   ],
   "source": [
    "import Pkg;\n",
    "Pkg.add(\"DataFrames\");\n",
    "Pkg.add(\"CSV\");\n",
    "using DataFrames;\n",
    "using CSV;"
   ]
  },
  {
   "cell_type": "markdown",
   "metadata": {},
   "source": [
    "# Activate the Environment\n",
    "\n",
    "Typically this happens by\n",
    "\n",
    "```\n",
    "using Pkg\n",
    "Pkg.activate(\"addm\")\n",
    "```\n",
    "\n",
    "**Note that single vs. double quotes matter.**\n",
    "\n",
    "But this does not work as expected in a notebook unless the `Project.toml` is in the same folder as the notebook file."
   ]
  },
  {
   "cell_type": "code",
   "execution_count": 2,
   "metadata": {},
   "outputs": [
    {
     "name": "stderr",
     "output_type": "stream",
     "text": [
      "\u001b[32m\u001b[1m  Activating\u001b[22m\u001b[39m project at `~/Toolboxes/ADDM.jl/docs/src/addm`\n",
      "\u001b[32m\u001b[1m  Activating\u001b[22m\u001b[39m project at `~/Toolboxes/ADDM.jl/docs/src/addm`\n",
      "\u001b[32m\u001b[1m  Activating\u001b[22m\u001b[39m project at `~/Toolboxes/ADDM.jl/docs/src/addm`\n",
      "\u001b[32m\u001b[1m  Activating\u001b[22m\u001b[39m project at `~/Toolboxes/ADDM.jl/docs/src/addm`\n",
      "\u001b[32m\u001b[1m  Activating\u001b[22m\u001b[39m project at `~/Toolboxes/ADDM.jl/docs/src/addm`\n",
      "\u001b[32m\u001b[1m  Activating\u001b[22m\u001b[39m project at `~/Toolboxes/ADDM.jl/docs/src/addm`\n"
     ]
    }
   ],
   "source": [
    "pwd();\n",
    "Base.load_path();\n",
    "include(\"../../src/addm_grid_search.jl\");\n",
    "Base.load_path();"
   ]
  },
  {
   "cell_type": "markdown",
   "metadata": {},
   "source": [
    "# Prepping to Fit the aDDM\n",
    "\n",
    "Let's do a 2-iteration grid search. We'll start with a low resolution grid search, then once we have rough estimates per subject, we can zoom into the region around the rough estimates for a precise measure.\n",
    "\n",
    "## Prep for gain and loss: load data, placeholders, set step sizes"
   ]
  },
  {
   "cell_type": "code",
   "execution_count": 3,
   "metadata": {},
   "outputs": [
    {
     "name": "stdout",
     "output_type": "stream",
     "text": [
      "[0.0001, 0.0026, 0.0051, 0.0076]\n",
      "[0.01, 0.04, 0.07, 0.1]\n",
      "[0.0, 0.5, 1.0, 1.5, 2.0]\n",
      "[-0.25, 0.0, 0.25]\n"
     ]
    }
   ],
   "source": [
    "addm = aDDM(.005, .07, .3); # These can be anything. They exist because you need an aDDM object. (d, s, t).\n",
    "\n",
    "dataGain = load_data_from_csv(\"../../data/expdataGain.csv\", \"../../data/fixationsGain.csv\", convertItemValues=nothing)\n",
    "dataLoss = load_data_from_csv(\"../../data/expdataLoss.csv\", \"../../data/fixationsLoss.csv\", convertItemValues=nothing);\n",
    "\n",
    "subjectCount = length(collect(keys(dataGain)))\n",
    "\n",
    "pChangeNLLThreshold = 0.001 # How little should NLL change in order for us to stop zooming in with grid search? 0.1%\n",
    "\n",
    "dStepSize = .0025 # Step sizes for the grids.\n",
    "σStepSize = .03\n",
    "θStepSize = .5\n",
    "bStepSize = .25\n",
    "\n",
    "dInitialGrid = Any[]\n",
    "σInitialGrid = Any[]\n",
    "θInitialGrid = Any[]\n",
    "bInitialGrid = Any[]\n",
    "for subject in collect(keys(dataGain))\n",
    "    push!(dInitialGrid, [0.0001:dStepSize:.008;])   # d from .0001 to .008\n",
    "    push!(σInitialGrid, [0.01:σStepSize:.1;])      # σ from .01 to .1\n",
    "    push!(θInitialGrid, float([0:θStepSize:2;]))    # θ from 0 to 2\n",
    "    push!(bInitialGrid, [-.25:bStepSize:.25;])      # b from -.25 to .25\n",
    "end\n",
    "\n",
    "println(dInitialGrid[1])\n",
    "println(σInitialGrid[1])\n",
    "println(θInitialGrid[1])\n",
    "println(bInitialGrid[1])"
   ]
  },
  {
   "cell_type": "markdown",
   "metadata": {},
   "source": [
    "## Function: Grid search and report data frame"
   ]
  },
  {
   "cell_type": "code",
   "execution_count": 4,
   "metadata": {},
   "outputs": [
    {
     "data": {
      "text/plain": [
       "fit_aDDM_custom_resolution (generic function with 1 method)"
      ]
     },
     "execution_count": 4,
     "metadata": {},
     "output_type": "execute_result"
    }
   ],
   "source": [
    "function fit_aDDM_custom_resolution(addm::aDDM, data::Dict{String, Vector{aDDMTrial}}, dGrid::Vector{Any}, σGrid::Vector{Any}, θGrid::Vector{Any}, bGrid::Vector{Any}, subjectCount::Number)\n",
    "    \"\"\"\n",
    "    \"\"\"\n",
    "\n",
    "    #print(\"Approx how many likelihoods to calculate per subject: \")\n",
    "    #print(length(dGrid[1])*length(σGrid[1])*length(θGrid[1])*length(bGrid[1]))\n",
    "\n",
    "    dList = Vector{Float64}(undef, subjectCount)\n",
    "    σList = Vector{Float64}(undef, subjectCount)\n",
    "    θList = Vector{Float64}(undef, subjectCount)\n",
    "    bList = Vector{Float64}(undef, subjectCount)\n",
    "    NLLsList = Vector{Float64}(undef, subjectCount);\n",
    "\n",
    "    ind = 1\n",
    "    @showprogress for subject in collect(keys(data))\n",
    "\n",
    "        dEst, σEst, θEst, bEst, NLL_Indiv = aDDM_grid_search(addm, data, dGrid[ind], σGrid[ind], θGrid[ind], bGrid[ind], subject)\n",
    "    \n",
    "        dList[ind] = dEst[1]\n",
    "        σList[ind] = σEst[1]\n",
    "        θList[ind] = θEst[1]\n",
    "        bList[ind] = bEst[1]\n",
    "        NLLsList[ind] = NLL_Indiv\n",
    "        ind += 1\n",
    "    \n",
    "    end\n",
    "\n",
    "    df = DataFrame(\n",
    "        subject = collect(keys(data)),\n",
    "        d = dList,\n",
    "        s = σList,\n",
    "        t = θList,\n",
    "        b = bList\n",
    "    )\n",
    "    df = sort(df, :subject)\n",
    "    NLL = sum(NLLsList)\n",
    "    return df, NLL\n",
    "end"
   ]
  },
  {
   "cell_type": "markdown",
   "metadata": {},
   "source": [
    "## Function: Make new grid"
   ]
  },
  {
   "cell_type": "code",
   "execution_count": 5,
   "metadata": {},
   "outputs": [
    {
     "data": {
      "text/plain": [
       "make_new_grid (generic function with 1 method)"
      ]
     },
     "execution_count": 5,
     "metadata": {},
     "output_type": "execute_result"
    }
   ],
   "source": [
    "function make_new_grid(estimates::DataFrame, data::Dict{String, Vector{aDDMTrial}}, dStepSize::Number, σStepSize::Number, θStepSize::Number, bStepSize::Number, iteration::Number)\n",
    "    \n",
    "    dGrid = Any[]\n",
    "    σGrid = Any[]\n",
    "    θGrid = Any[]\n",
    "    bGrid = Any[]\n",
    "\n",
    "    iteration = iteration-1 # Iteration in the while loops below start at 2 since we run the fitting once before the loop. Correct for this.\n",
    "    ind = 1\n",
    "    for subject in collect(keys(data))\n",
    "\n",
    "        d = estimates[(estimates.subject .== subject), \"d\"][1]\n",
    "        σ = estimates[(estimates.subject .== subject), \"s\"][1]\n",
    "        θ = estimates[(estimates.subject .== subject), \"t\"][1]\n",
    "        b = estimates[(estimates.subject .== subject), \"b\"][1]\n",
    "\n",
    "        dLow = max(0.0001, d-(dStepSize/(2^iteration)));\n",
    "        dHigh = d+(dStepSize/(2^iteration));\n",
    "        σLow = max(0.001, σ-(σStepSize/(2^iteration)));\n",
    "        σHigh = σ+(σStepSize/(2^iteration));\n",
    "        θLow = θ-(θStepSize/(2^iteration));\n",
    "        θHigh = θ+(θStepSize/(2^iteration));\n",
    "        bLow = max(-.99, b-(bStepSize/(2^iteration)));\n",
    "        bHigh = min(.99, b+(bStepSize/(2^iteration)));\n",
    "\n",
    "        push!(dGrid, float([dLow, d, dHigh]))\n",
    "        push!(σGrid, float([σLow, σ, σHigh]))    \n",
    "        push!(θGrid, float([θLow, θ, θHigh]))           \n",
    "        push!(bGrid, float([bLow, b, bHigh]))  \n",
    "\n",
    "        ind += 1\n",
    "    end\n",
    "    return dGrid, σGrid, θGrid, bGrid\n",
    "end"
   ]
  },
  {
   "cell_type": "markdown",
   "metadata": {},
   "source": [
    "# Fit Gain Data"
   ]
  },
  {
   "cell_type": "code",
   "execution_count": 6,
   "metadata": {},
   "outputs": [
    {
     "name": "stderr",
     "output_type": "stream",
     "text": [
      "\u001b[32mProgress: 100%|█████████████████████████████████████████| Time: 0:05:52\u001b[39m\n"
     ]
    },
    {
     "name": "stdout",
     "output_type": "stream",
     "text": [
      "Iteration 1\n",
      "Old NLL missingNew NLL 13445.629063325236\n",
      "Percent Change missing\u001b[1m26×5 DataFrame\u001b[0m\n",
      "\u001b[1m Row \u001b[0m│\u001b[1m subject \u001b[0m\u001b[1m d       \u001b[0m\u001b[1m s       \u001b[0m\u001b[1m t       \u001b[0m\u001b[1m b       \u001b[0m\n",
      "     │\u001b[90m String  \u001b[0m\u001b[90m Float64 \u001b[0m\u001b[90m Float64 \u001b[0m\u001b[90m Float64 \u001b[0m\u001b[90m Float64 \u001b[0m\n",
      "─────┼─────────────────────────────────────────────\n",
      "   1 │ 201       0.0026     0.07      0.5      0.0\n",
      "   2 │ 202       0.0026     0.04      0.5      0.0\n",
      "   3 │ 204       0.0026     0.04      1.0      0.0\n",
      "   4 │ 205       0.0026     0.07      0.5      0.0\n",
      "   5 │ 206       0.0026     0.07      1.0      0.0\n",
      "   6 │ 207       0.0026     0.04      0.5      0.0\n",
      "   7 │ 208       0.0051     0.07      1.0      0.0\n",
      "   8 │ 209       0.0026     0.04      0.5      0.0\n",
      "   9 │ 211       0.0026     0.04      1.0      0.0\n",
      "  10 │ 213       0.0026     0.1       0.5      0.0\n",
      "  11 │ 214       0.0026     0.04      0.5      0.0\n",
      "  12 │ 215       0.0026     0.04      1.0      0.0\n",
      "  13 │ 216       0.0051     0.07      0.5      0.0\n",
      "  14 │ 217       0.0026     0.04      0.5      0.0\n",
      "  15 │ 219       0.0026     0.07      1.0      0.0\n",
      "  16 │ 220       0.0026     0.07      0.5      0.0\n",
      "  17 │ 222       0.0026     0.04      1.0      0.0\n",
      "  18 │ 223       0.0026     0.04      1.0      0.0\n",
      "  19 │ 224       0.0026     0.07      0.0      0.0\n",
      "  20 │ 225       0.0051     0.07      1.0      0.0\n",
      "  21 │ 227       0.0026     0.07      0.5      0.0\n",
      "  22 │ 229       0.0026     0.07      1.0      0.0\n",
      "  23 │ 230       0.0026     0.04      0.5      0.0\n",
      "  24 │ 231       0.0026     0.04      0.5      0.0\n",
      "  25 │ 232       0.0026     0.07      0.5      0.0\n",
      "  26 │ 233       0.0051     0.04      0.5      0.0\n"
     ]
    },
    {
     "name": "stderr",
     "output_type": "stream",
     "text": [
      "\u001b[32mProgress: 100%|█████████████████████████████████████████| Time: 0:01:57\u001b[39m\n"
     ]
    },
    {
     "name": "stdout",
     "output_type": "stream",
     "text": [
      "Iteration 2\n",
      "Old NLL 13445.629063325236\n",
      "New NLL 13211.89798758597\n",
      "Percent Change 0.017383424355859933\n",
      "\u001b[1m26×5 DataFrame\u001b[0m\n",
      "\u001b[1m Row \u001b[0m│\u001b[1m subject \u001b[0m\u001b[1m d       \u001b[0m\u001b[1m s       \u001b[0m\u001b[1m t       \u001b[0m\u001b[1m b       \u001b[0m\n",
      "     │\u001b[90m String  \u001b[0m\u001b[90m Float64 \u001b[0m\u001b[90m Float64 \u001b[0m\u001b[90m Float64 \u001b[0m\u001b[90m Float64 \u001b[0m\n",
      "─────┼─────────────────────────────────────────────\n",
      "   1 │ 201      0.0026     0.055     0.5     0.0\n",
      "   2 │ 202      0.0026     0.04      0.5     0.125\n",
      "   3 │ 204      0.0026     0.055     0.75    0.0\n",
      "   4 │ 205      0.0026     0.07      0.5     0.0\n",
      "   5 │ 206      0.00385    0.055     0.75    0.0\n",
      "   6 │ 207      0.00135    0.055     0.75    0.0\n",
      "   7 │ 208      0.0051     0.07      0.75    0.0\n",
      "   8 │ 209      0.00135    0.055     0.75    0.0\n",
      "   9 │ 211      0.0026     0.04      0.75    0.0\n",
      "  10 │ 213      0.0026     0.085     0.25    0.0\n",
      "  11 │ 214      0.0026     0.04      0.75    0.125\n",
      "  12 │ 215      0.0026     0.055     0.75    0.0\n",
      "  13 │ 216      0.00385    0.055     0.75   -0.125\n",
      "  14 │ 217      0.00135    0.055     0.75    0.0\n",
      "  15 │ 219      0.00135    0.055     1.0     0.0\n",
      "  16 │ 220      0.0026     0.055     0.75    0.0\n",
      "  17 │ 222      0.0026     0.04      0.75    0.0\n",
      "  18 │ 223      0.0026     0.04      1.0     0.0\n",
      "  19 │ 224      0.0026     0.055     0.25    0.0\n",
      "  20 │ 225      0.00385    0.07      1.0     0.0\n",
      "  21 │ 227      0.0026     0.055     0.5     0.125\n",
      "  22 │ 229      0.0026     0.055     0.75    0.0\n",
      "  23 │ 230      0.00135    0.055     0.75    0.0\n",
      "  24 │ 231      0.00135    0.055     0.75    0.0\n",
      "  25 │ 232      0.00385    0.07      0.5     0.0\n",
      "  26 │ 233      0.00385    0.055     0.75    0.0\n"
     ]
    },
    {
     "name": "stderr",
     "output_type": "stream",
     "text": [
      "\u001b[32mProgress: 100%|█████████████████████████████████████████| Time: 0:01:57\u001b[39m\n"
     ]
    },
    {
     "name": "stdout",
     "output_type": "stream",
     "text": [
      "Iteration 3\n",
      "Old NLL 13211.89798758597\n",
      "New NLL 13096.966240349335\n",
      "Percent Change 0.0086991094954431\n",
      "\u001b[1m26×5 DataFrame\u001b[0m\n",
      "\u001b[1m Row \u001b[0m│\u001b[1m subject \u001b[0m\u001b[1m d        \u001b[0m\u001b[1m s       \u001b[0m\u001b[1m t       \u001b[0m\u001b[1m b       \u001b[0m\n",
      "     │\u001b[90m String  \u001b[0m\u001b[90m Float64  \u001b[0m\u001b[90m Float64 \u001b[0m\u001b[90m Float64 \u001b[0m\u001b[90m Float64 \u001b[0m\n",
      "─────┼──────────────────────────────────────────────\n",
      "   1 │ 201      0.0026     0.0475    0.625   0.0\n",
      "   2 │ 202      0.003225   0.04      0.5     0.0625\n",
      "   3 │ 204      0.0026     0.0475    0.75    0.0\n",
      "   4 │ 205      0.001975   0.0625    0.5     0.0\n",
      "   5 │ 206      0.00385    0.0625    0.875   0.0\n",
      "   6 │ 207      0.00135    0.0475    0.625   0.0\n",
      "   7 │ 208      0.004475   0.07      0.875   0.0\n",
      "   8 │ 209      0.001975   0.0475    0.75    0.0\n",
      "   9 │ 211      0.0026     0.04      0.75    0.0\n",
      "  10 │ 213      0.003225   0.085     0.375   0.0\n",
      "  11 │ 214      0.001975   0.0475    0.625   0.0625\n",
      "  12 │ 215      0.0026     0.0475    0.75    0.0\n",
      "  13 │ 216      0.004475   0.0475    0.75   -0.125\n",
      "  14 │ 217      0.00135    0.0475    0.875   0.0\n",
      "  15 │ 219      0.001975   0.0475    0.875   0.0\n",
      "  16 │ 220      0.003225   0.0475    0.75    0.0\n",
      "  17 │ 222      0.001975   0.0475    0.875   0.0\n",
      "  18 │ 223      0.0026     0.0475    0.875   0.0\n",
      "  19 │ 224      0.001975   0.055     0.125   0.0\n",
      "  20 │ 225      0.004475   0.0625    0.875   0.0\n",
      "  21 │ 227      0.003225   0.0475    0.5     0.0625\n",
      "  22 │ 229      0.003225   0.0475    0.75    0.0\n",
      "  23 │ 230      0.00135    0.0475    0.875   0.0\n",
      "  24 │ 231      0.00135    0.0475    0.875   0.0\n",
      "  25 │ 232      0.003225   0.0625    0.625   0.0\n",
      "  26 │ 233      0.003225   0.0475    0.625   0.0\n"
     ]
    },
    {
     "name": "stderr",
     "output_type": "stream",
     "text": [
      "\u001b[32mProgress: 100%|█████████████████████████████████████████| Time: 0:01:57\u001b[39m\n"
     ]
    },
    {
     "name": "stdout",
     "output_type": "stream",
     "text": [
      "Iteration 4\n",
      "Old NLL 13096.966240349335\n",
      "New NLL 13073.326908041005\n",
      "Percent Change 0.0018049471820047798\n",
      "\u001b[1m26×5 DataFrame\u001b[0m\n",
      "\u001b[1m Row \u001b[0m│\u001b[1m subject \u001b[0m\u001b[1m d         \u001b[0m\u001b[1m s       \u001b[0m\u001b[1m t       \u001b[0m\u001b[1m b        \u001b[0m\n",
      "     │\u001b[90m String  \u001b[0m\u001b[90m Float64   \u001b[0m\u001b[90m Float64 \u001b[0m\u001b[90m Float64 \u001b[0m\u001b[90m Float64  \u001b[0m\n",
      "─────┼────────────────────────────────────────────────\n",
      "   1 │ 201      0.0026     0.05125   0.625   -0.03125\n",
      "   2 │ 202      0.0029125  0.04375   0.5625   0.0625\n",
      "   3 │ 204      0.0026     0.04375   0.8125  -0.03125\n",
      "   4 │ 205      0.0022875  0.0625    0.5     -0.03125\n",
      "   5 │ 206      0.00385    0.0625    0.8125  -0.03125\n",
      "   6 │ 207      0.0016625  0.04375   0.625   -0.03125\n",
      "   7 │ 208      0.004475   0.07375   0.875   -0.03125\n",
      "   8 │ 209      0.0016625  0.0475    0.8125  -0.03125\n",
      "   9 │ 211      0.0022875  0.04375   0.75    -0.03125\n",
      "  10 │ 213      0.0029125  0.085     0.375   -0.03125\n",
      "  11 │ 214      0.0022875  0.04375   0.625    0.0625\n",
      "  12 │ 215      0.0022875  0.0475    0.8125  -0.03125\n",
      "  13 │ 216      0.0041625  0.05125   0.6875  -0.125\n",
      "  14 │ 217      0.00135    0.0475    0.8125  -0.03125\n",
      "  15 │ 219      0.001975   0.0475    0.9375  -0.03125\n",
      "  16 │ 220      0.0029125  0.0475    0.75    -0.03125\n",
      "  17 │ 222      0.001975   0.04375   0.9375  -0.03125\n",
      "  18 │ 223      0.0026     0.04375   0.875   -0.03125\n",
      "  19 │ 224      0.0022875  0.055     0.125   -0.03125\n",
      "  20 │ 225      0.0041625  0.0625    0.875   -0.03125\n",
      "  21 │ 227      0.0029125  0.0475    0.5      0.0625\n",
      "  22 │ 229      0.0029125  0.0475    0.75    -0.03125\n",
      "  23 │ 230      0.0016625  0.04375   0.8125  -0.03125\n",
      "  24 │ 231      0.00135    0.0475    0.875   -0.03125\n",
      "  25 │ 232      0.003225   0.0625    0.5625  -0.03125\n",
      "  26 │ 233      0.0035375  0.0475    0.6875  -0.03125\n"
     ]
    },
    {
     "name": "stderr",
     "output_type": "stream",
     "text": [
      "\u001b[32mProgress: 100%|█████████████████████████████████████████| Time: 0:01:57\u001b[39m\n"
     ]
    },
    {
     "name": "stdout",
     "output_type": "stream",
     "text": [
      "Iteration 5\n",
      "Old NLL 13073.326908041005\n",
      "New NLL 13066.484954537422\n",
      "Percent Change 0.0005233521315354316\n",
      "\u001b[1m26×5 DataFrame\u001b[0m\n",
      "\u001b[1m Row \u001b[0m│\u001b[1m subject \u001b[0m\u001b[1m d          \u001b[0m\u001b[1m s        \u001b[0m\u001b[1m t       \u001b[0m\u001b[1m b         \u001b[0m\n",
      "     │\u001b[90m String  \u001b[0m\u001b[90m Float64    \u001b[0m\u001b[90m Float64  \u001b[0m\u001b[90m Float64 \u001b[0m\u001b[90m Float64   \u001b[0m\n",
      "─────┼───────────────────────────────────────────────────\n",
      "   1 │ 201      0.00244375  0.05125   0.65625  -0.046875\n",
      "   2 │ 202      0.0029125   0.041875  0.53125   0.0625\n",
      "   3 │ 204      0.00244375  0.045625  0.84375  -0.046875\n",
      "   4 │ 205      0.00213125  0.0625    0.5      -0.046875\n",
      "   5 │ 206      0.00385     0.060625  0.8125   -0.046875\n",
      "   6 │ 207      0.00150625  0.045625  0.65625  -0.046875\n",
      "   7 │ 208      0.00463125  0.07375   0.875    -0.046875\n",
      "   8 │ 209      0.0016625   0.0475    0.8125   -0.046875\n",
      "   9 │ 211      0.00244375  0.041875  0.75     -0.046875\n",
      "  10 │ 213      0.00306875  0.085     0.375    -0.046875\n",
      "  11 │ 214      0.0022875   0.04375   0.625     0.0625\n",
      "  12 │ 215      0.00244375  0.045625  0.8125   -0.046875\n",
      "  13 │ 216      0.00431875  0.05125   0.6875   -0.140625\n",
      "  14 │ 217      0.00150625  0.0475    0.78125  -0.046875\n",
      "  15 │ 219      0.00181875  0.049375  0.9375   -0.046875\n",
      "  16 │ 220      0.00306875  0.045625  0.78125  -0.046875\n",
      "  17 │ 222      0.001975    0.04375   0.90625  -0.046875\n",
      "  18 │ 223      0.0026      0.04375   0.875    -0.046875\n",
      "  19 │ 224      0.00213125  0.053125  0.09375  -0.046875\n",
      "  20 │ 225      0.00431875  0.0625    0.84375  -0.046875\n",
      "  21 │ 227      0.00306875  0.0475    0.53125   0.0625\n",
      "  22 │ 229      0.00306875  0.0475    0.75     -0.046875\n",
      "  23 │ 230      0.0016625   0.045625  0.78125  -0.046875\n",
      "  24 │ 231      0.00150625  0.045625  0.84375  -0.046875\n",
      "  25 │ 232      0.00338125  0.064375  0.5625   -0.046875\n",
      "  26 │ 233      0.00338125  0.0475    0.65625  -0.046875\n"
     ]
    },
    {
     "data": {
      "text/plain": [
       "\"GainFit.csv\""
      ]
     },
     "execution_count": 6,
     "metadata": {},
     "output_type": "execute_result"
    }
   ],
   "source": [
    "oldGainEstimates, oldNLL = fit_aDDM_custom_resolution(addm, dataGain, dInitialGrid, σInitialGrid, θInitialGrid, bInitialGrid, subjectCount)\n",
    "println(\"Iteration 1\"); print(\"Old NLL missing\"); print(\"New NLL \"); println(oldNLL); print(\"Percent Change missing\"); println(oldGainEstimates);\n",
    "\n",
    "iteration = 2\n",
    "Δ = 100\n",
    "while Δ > .001\n",
    "    \n",
    "    dGrid, σGrid, θGrid, bGrid = make_new_grid(oldGainEstimates, dataGain, dStepSize, σStepSize, θStepSize, bStepSize, iteration)\n",
    "    newGainEstimates, newNLL = fit_aDDM_custom_resolution(addm, dataGain, dGrid, σGrid, θGrid, bGrid, subjectCount)\n",
    "    Δ = (oldNLL-newNLL)/oldNLL\n",
    "    if Δ < 0\n",
    "        global gainEstimates = oldGainEstimates\n",
    "    else\n",
    "        global gainEstimates = newGainEstimates\n",
    "    end\n",
    "\n",
    "    print(\"Iteration \"); println(iteration); print(\"Old NLL \"); println(oldNLL); print(\"New NLL \"); println(newNLL); print(\"Percent Change \"); println(Δ); println(gainEstimates); iteration += 1; oldGainEstimates = newGainEstimates; oldNLL = newNLL;\n",
    "\n",
    "end\n",
    "CSV.write(\"GainFit.csv\", gainEstimates)"
   ]
  },
  {
   "cell_type": "markdown",
   "metadata": {},
   "source": [
    "# Fit Loss Data"
   ]
  },
  {
   "cell_type": "code",
   "execution_count": 7,
   "metadata": {},
   "outputs": [
    {
     "name": "stderr",
     "output_type": "stream",
     "text": [
      "\u001b[32mProgress: 100%|█████████████████████████████████████████| Time: 0:06:51\u001b[39m\n"
     ]
    },
    {
     "name": "stdout",
     "output_type": "stream",
     "text": [
      "Iteration 1\n",
      "Old NLL missingNew NLL 14208.625775361294\n",
      "Percent Change missing\u001b[1m26×5 DataFrame\u001b[0m\n",
      "\u001b[1m Row \u001b[0m│\u001b[1m subject \u001b[0m\u001b[1m d       \u001b[0m\u001b[1m s       \u001b[0m\u001b[1m t       \u001b[0m\u001b[1m b       \u001b[0m\n",
      "     │\u001b[90m String  \u001b[0m\u001b[90m Float64 \u001b[0m\u001b[90m Float64 \u001b[0m\u001b[90m Float64 \u001b[0m\u001b[90m Float64 \u001b[0m\n",
      "─────┼─────────────────────────────────────────────\n",
      "   1 │ 201       0.0001     0.07      2.0     0.0\n",
      "   2 │ 202       0.0026     0.04      1.0     0.0\n",
      "   3 │ 204       0.0026     0.04      1.0     0.0\n",
      "   4 │ 205       0.0001     0.07      2.0     0.0\n",
      "   5 │ 206       0.0026     0.07      1.0     0.0\n",
      "   6 │ 207       0.0026     0.04      0.5     0.0\n",
      "   7 │ 208       0.0026     0.07      1.5     0.0\n",
      "   8 │ 209       0.0026     0.04      1.0     0.0\n",
      "   9 │ 211       0.0026     0.04      1.0     0.0\n",
      "  10 │ 213       0.0026     0.07      1.5     0.0\n",
      "  11 │ 214       0.0001     0.07      2.0     0.0\n",
      "  12 │ 215       0.0026     0.04      0.5    -0.25\n",
      "  13 │ 216       0.0026     0.07      1.5     0.0\n",
      "  14 │ 217       0.0026     0.04      0.5     0.0\n",
      "  15 │ 219       0.0026     0.07      1.5     0.0\n",
      "  16 │ 220       0.0026     0.07      1.0     0.0\n",
      "  17 │ 222       0.0001     0.07      2.0     0.0\n",
      "  18 │ 223       0.0026     0.04      1.0     0.0\n",
      "  19 │ 224       0.0026     0.07      1.0     0.0\n",
      "  20 │ 225       0.0026     0.07      1.5     0.0\n",
      "  21 │ 227       0.0026     0.04      0.5     0.0\n",
      "  22 │ 229       0.0026     0.04      0.5     0.0\n",
      "  23 │ 230       0.0001     0.07      2.0     0.0\n",
      "  24 │ 231       0.0001     0.04      2.0     0.0\n",
      "  25 │ 232       0.0026     0.07      1.5     0.0\n",
      "  26 │ 233       0.0001     0.07      2.0     0.0\n"
     ]
    },
    {
     "name": "stderr",
     "output_type": "stream",
     "text": [
      "\u001b[32mProgress: 100%|█████████████████████████████████████████| Time: 0:02:18\u001b[39m\n"
     ]
    },
    {
     "name": "stdout",
     "output_type": "stream",
     "text": [
      "Iteration 2\n",
      "Old NLL 14208.625775361294\n",
      "New NLL 13863.818348713245\n",
      "Percent Change 0.024267471893444335\n",
      "\u001b[1m26×5 DataFrame\u001b[0m\n",
      "\u001b[1m Row \u001b[0m│\u001b[1m subject \u001b[0m\u001b[1m d       \u001b[0m\u001b[1m s       \u001b[0m\u001b[1m t       \u001b[0m\u001b[1m b       \u001b[0m\n",
      "     │\u001b[90m String  \u001b[0m\u001b[90m Float64 \u001b[0m\u001b[90m Float64 \u001b[0m\u001b[90m Float64 \u001b[0m\u001b[90m Float64 \u001b[0m\n",
      "─────┼─────────────────────────────────────────────\n",
      "   1 │ 201      0.00135    0.055     1.75    0.0\n",
      "   2 │ 202      0.0026     0.04      1.0     0.0\n",
      "   3 │ 204      0.00135    0.055     1.25    0.0\n",
      "   4 │ 205      0.0001     0.07      2.25    0.0\n",
      "   5 │ 206      0.0026     0.055     1.0     0.125\n",
      "   6 │ 207      0.00135    0.04      0.75    0.0\n",
      "   7 │ 208      0.0026     0.07      1.75    0.0\n",
      "   8 │ 209      0.00135    0.04      1.25    0.0\n",
      "   9 │ 211      0.00135    0.04      1.25    0.0\n",
      "  10 │ 213      0.0026     0.07      1.25    0.125\n",
      "  11 │ 214      0.0001     0.055     2.25    0.0\n",
      "  12 │ 215      0.00135    0.04      0.75   -0.125\n",
      "  13 │ 216      0.0026     0.07      1.25    0.0\n",
      "  14 │ 217      0.00135    0.04      0.75   -0.125\n",
      "  15 │ 219      0.0026     0.055     1.25    0.0\n",
      "  16 │ 220      0.00135    0.055     1.25    0.125\n",
      "  17 │ 222      0.0001     0.055     2.25    0.0\n",
      "  18 │ 223      0.00135    0.055     1.25    0.0\n",
      "  19 │ 224      0.0026     0.055     1.0     0.0\n",
      "  20 │ 225      0.0026     0.055     1.25    0.0\n",
      "  21 │ 227      0.0026     0.04      0.75    0.0\n",
      "  22 │ 229      0.00135    0.04      0.75    0.0\n",
      "  23 │ 230      0.0001     0.055     2.25    0.0\n",
      "  24 │ 231      0.0001     0.04      2.25    0.0\n",
      "  25 │ 232      0.0026     0.055     1.5     0.125\n",
      "  26 │ 233      0.00135    0.055     1.75    0.0\n"
     ]
    },
    {
     "ename": "LoadError",
     "evalue": "UndefVarError: `newGainEstimates` not defined",
     "output_type": "error",
     "traceback": [
      "UndefVarError: `newGainEstimates` not defined",
      "",
      "Stacktrace:",
      " [1] top-level scope",
      "   @ ./In[7]:17"
     ]
    }
   ],
   "source": [
    "oldLossEstimates, oldNLL = fit_aDDM_custom_resolution(addm, dataLoss, dInitialGrid, σInitialGrid, θInitialGrid, bInitialGrid, subjectCount)\n",
    "println(\"Iteration 1\"); print(\"Old NLL missing\"); print(\"New NLL \"); println(oldNLL); print(\"Percent Change missing\"); println(oldLossEstimates);\n",
    "\n",
    "iteration = 2\n",
    "Δ = 100\n",
    "while Δ > .001\n",
    "    \n",
    "    dGrid, σGrid, θGrid, bGrid = make_new_grid(oldLossEstimates, dataLoss, dStepSize, σStepSize, θStepSize, bStepSize, iteration)\n",
    "    newLossEstimates, newNLL = fit_aDDM_custom_resolution(addm, dataLoss, dGrid, σGrid, θGrid, bGrid, subjectCount)\n",
    "    Δ = (oldNLL-newNLL)/oldNLL\n",
    "    if Δ < 0\n",
    "        global lossEstimates = oldLossEstimates\n",
    "    else\n",
    "        global lossEstimates = newLossEstimates\n",
    "    end\n",
    "\n",
    "    print(\"Iteration \"); println(iteration); print(\"Old NLL \"); println(oldNLL); print(\"New NLL \"); println(newNLL); print(\"Percent Change \"); println(Δ); println(lossEstimates); iteration += 1; oldLossEstimates = newLossEstimates; oldNLL = newNLL; \n",
    "\n",
    "end\n",
    "CSV.write(\"LossFit.csv\", lossEstimates)"
   ]
  }
 ],
 "metadata": {
  "kernelspec": {
   "display_name": "Julia 1.9.3",
   "language": "julia",
   "name": "julia-1.9"
  },
  "language_info": {
   "file_extension": ".jl",
   "mimetype": "application/julia",
   "name": "julia",
   "version": "1.9.3"
  },
  "orig_nbformat": 4
 },
 "nbformat": 4,
 "nbformat_minor": 2
}
