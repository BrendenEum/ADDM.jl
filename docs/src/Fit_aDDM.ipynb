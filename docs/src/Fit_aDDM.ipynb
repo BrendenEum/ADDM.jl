{
 "cells": [
  {
   "cell_type": "markdown",
   "metadata": {},
   "source": [
    "# Estimating the aDDM\n",
    "### Author: Brenden Eum (2023)\n",
    "\n",
    "This script will read already-transformed data containing trial-by-trial details and fixations and fit the aDDM to this data. It uses the Tavares Toolbox (Tavares et al. 2017) rewritten for Julia by Lynn in Summer 2023. See https://github.com/aDDM-Toolbox/ADDM.jl for the toolbox. \n",
    "\n",
    "I've made a changes to the toolbox in order to suit my project. Some of these are small changes, like changing object types, saving outputs to csv files, or changing the grid for grid search. I don't document small changes since they'll probably change over multiple iterations. I do document major changes to the toolbox: (1) The toolbox now fits the model to the output of load_data_from_csv instead of simulating data; (2) The toolbox no longer throws a domain error when $\\theta \\notin [0,1]$.\n",
    "\n",
    "Inputs for this notebook:\n",
    "- Data\n",
    "    - data/expdata*.csv:    Data pertaining to the details of each trial. An observation is a subject-trial. It must include the following columns [parcode,trial,rt,choice,item_left,item_right], which correspond to [subject, trial, response time in ms, choice (-1 left, 1 right), value of left item, value of right item] respectively.\n",
    "    - data/fixations*.csv:  Data pertaining to the fixations within each trial. An observation is a subject-trial-fixation. It must include columns [parcode,trial,fix_item,fix_time], which correspond to [subject, trial, fixation location (1 left, 2 right, otherwise other), fixation duration in ms].\n",
    "- Code\n",
    "    - src/ addm_grid_search.jl: Takes a grid of parameters, makes every combination, and calculates negative log likelihood (NLL) of aDDM for every combo given some data.\n",
    "    - addm.jl: Defines aDDM class and functions for calculating trial likelihood, summing likelihoods, and simulating.\n",
    "    - ddm.jl: Defines DDM class and functions for calculating trial likelihood, summing likelihoods, and simulating.\n",
    "    - util.jl: Contains functions for prepping data for aDDM fitting and estimating empirical fixation properties.\n",
    "\n",
    "\n",
    "Outputs for this notebook:\n",
    "- GainFit.csv:  aDDM estimates for the gain condition. Estimates are for subjects included in the input datasets.\n",
    "- LossFit.csv:  aDDM estimates for the loss condition."
   ]
  },
  {
   "cell_type": "markdown",
   "metadata": {},
   "source": [
    "# Preamble\n",
    "\n",
    "A set of standard things I like to do before getting started with any notebook."
   ]
  },
  {
   "cell_type": "code",
   "execution_count": 1,
   "metadata": {},
   "outputs": [
    {
     "name": "stderr",
     "output_type": "stream",
     "text": [
      "\u001b[32m\u001b[1m   Resolving\u001b[22m\u001b[39m package versions...\n",
      "\u001b[32m\u001b[1m  No Changes\u001b[22m\u001b[39m to `~/.julia/environments/v1.9/Project.toml`\n",
      "\u001b[32m\u001b[1m  No Changes\u001b[22m\u001b[39m to `~/.julia/environments/v1.9/Manifest.toml`\n",
      "\u001b[32m\u001b[1m   Resolving\u001b[22m\u001b[39m package versions...\n",
      "\u001b[32m\u001b[1m  No Changes\u001b[22m\u001b[39m to `~/.julia/environments/v1.9/Project.toml`\n",
      "\u001b[32m\u001b[1m  No Changes\u001b[22m\u001b[39m to `~/.julia/environments/v1.9/Manifest.toml`\n"
     ]
    }
   ],
   "source": [
    "import Pkg\n",
    "Pkg.add(\"DataFrames\")\n",
    "Pkg.add(\"CSV\")\n",
    "using DataFrames\n",
    "using CSV"
   ]
  },
  {
   "cell_type": "markdown",
   "metadata": {},
   "source": [
    "# Activate the Environment\n",
    "\n",
    "Typically this happens by\n",
    "\n",
    "```\n",
    "using Pkg\n",
    "Pkg.activate(\"addm\")\n",
    "```\n",
    "\n",
    "**Note that single vs. double quotes matter.**\n",
    "\n",
    "But this does not work as expected in a notebook unless the `Project.toml` is in the same folder as the notebook file."
   ]
  },
  {
   "cell_type": "code",
   "execution_count": 2,
   "metadata": {},
   "outputs": [
    {
     "name": "stderr",
     "output_type": "stream",
     "text": [
      "\u001b[32m\u001b[1m  Activating\u001b[22m\u001b[39m project at `~/Toolboxes/ADDM.jl/docs/src/addm`\n",
      "\u001b[32m\u001b[1m  Activating\u001b[22m\u001b[39m project at `~/Toolboxes/ADDM.jl/docs/src/addm`\n",
      "\u001b[32m\u001b[1m  Activating\u001b[22m\u001b[39m project at `~/Toolboxes/ADDM.jl/docs/src/addm`\n",
      "\u001b[32m\u001b[1m  Activating\u001b[22m\u001b[39m project at `~/Toolboxes/ADDM.jl/docs/src/addm`\n",
      "\u001b[32m\u001b[1m  Activating\u001b[22m\u001b[39m project at `~/Toolboxes/ADDM.jl/docs/src/addm`\n",
      "\u001b[32m\u001b[1m  Activating\u001b[22m\u001b[39m project at `~/Toolboxes/ADDM.jl/docs/src/addm`\n"
     ]
    },
    {
     "data": {
      "text/plain": [
       "3-element Vector{String}:\n",
       " \"/Users/brenden/Toolboxes/ADDM.jl/docs/src/addm/Project.toml\"\n",
       " \"/Users/brenden/.julia/environments/v1.9/Project.toml\"\n",
       " \"/opt/homebrew/Cellar/julia/1.9.3/share/julia/stdlib/v1.9\""
      ]
     },
     "execution_count": 2,
     "metadata": {},
     "output_type": "execute_result"
    }
   ],
   "source": [
    "pwd()\n",
    "Base.load_path()\n",
    "include(\"../../src/addm_grid_search.jl\")\n",
    "Base.load_path()"
   ]
  },
  {
   "cell_type": "markdown",
   "metadata": {},
   "source": [
    "# Fit the aDDM"
   ]
  },
  {
   "cell_type": "markdown",
   "metadata": {},
   "source": [
    "## Set Up the Grid for Search\n",
    "\n",
    "The plan is to use a single grid to fit the aDDM separately to both the gain and the loss data. That way, we know that it's not our choice of the grid that is driving our results since the same grid is applied to both conditions."
   ]
  },
  {
   "cell_type": "code",
   "execution_count": 3,
   "metadata": {},
   "outputs": [
    {
     "name": "stdout",
     "output_type": "stream",
     "text": [
      "[0.0, 0.002, 0.004, 0.006]\n",
      "[0.01, 0.04, 0.07, 0.1]\n",
      "[0.0, 0.67, 1.33, 2.0]\n"
     ]
    }
   ],
   "source": [
    "dLow = .000;\n",
    "dHigh = .006;\n",
    "σLow = .01;\n",
    "σHigh = .10;\n",
    "θLow = 0;\n",
    "θHigh = 2;\n",
    "n = 1;\n",
    "\n",
    "dList = round.(LinRange(dLow, dHigh, 4), digits=4); #7\n",
    "σList = round.(LinRange(σLow, σHigh, 4), digits=2); #10\n",
    "θList = round.(LinRange(θLow, θHigh, 4), digits=2); #21\n",
    "\n",
    "println(collect(dList))\n",
    "println(collect(σList))\n",
    "println(collect(θList))"
   ]
  },
  {
   "cell_type": "markdown",
   "metadata": {},
   "source": [
    "## Fit Gain Data\n",
    "\n",
    "Lynn's version of the Tavares toolbox in Julia runs so quickly, we almost don't need to run a mulitple-iteration grid search to obtain high-resolution estimates. That being said, I do think a 2-iteration grid search will allow us to obtain very high-resolution estimates, so we'll go with that."
   ]
  },
  {
   "cell_type": "markdown",
   "metadata": {},
   "source": [
    "### Low-res Grid Search"
   ]
  },
  {
   "cell_type": "code",
   "execution_count": 4,
   "metadata": {},
   "outputs": [
    {
     "name": "stderr",
     "output_type": "stream",
     "text": [
      "\u001b[32mProgress: 100%|█████████████████████████████████████████| Time: 0:01:31\u001b[39m\n"
     ]
    },
    {
     "data": {
      "text/html": [
       "<div><div style = \"float: left;\"><span>25×4 DataFrame</span></div><div style = \"clear: both;\"></div></div><div class = \"data-frame\" style = \"overflow-x: scroll;\"><table class = \"data-frame\" style = \"margin-bottom: 6px;\"><thead><tr class = \"header\"><th class = \"rowNumber\" style = \"font-weight: bold; text-align: right;\">Row</th><th style = \"text-align: left;\">subject</th><th style = \"text-align: left;\">d</th><th style = \"text-align: left;\">s</th><th style = \"text-align: left;\">t</th></tr><tr class = \"subheader headerLastRow\"><th class = \"rowNumber\" style = \"font-weight: bold; text-align: right;\"></th><th title = \"String\" style = \"text-align: left;\">String</th><th title = \"Float64\" style = \"text-align: left;\">Float64</th><th title = \"Float64\" style = \"text-align: left;\">Float64</th><th title = \"Float64\" style = \"text-align: left;\">Float64</th></tr></thead><tbody><tr><td class = \"rowNumber\" style = \"font-weight: bold; text-align: right;\">1</td><td style = \"text-align: left;\">215</td><td style = \"text-align: right;\">0.002</td><td style = \"text-align: right;\">0.04</td><td style = \"text-align: right;\">1.33</td></tr><tr><td class = \"rowNumber\" style = \"font-weight: bold; text-align: right;\">2</td><td style = \"text-align: left;\">229</td><td style = \"text-align: right;\">0.004</td><td style = \"text-align: right;\">0.04</td><td style = \"text-align: right;\">0.67</td></tr><tr><td class = \"rowNumber\" style = \"font-weight: bold; text-align: right;\">3</td><td style = \"text-align: left;\">217</td><td style = \"text-align: right;\">0.002</td><td style = \"text-align: right;\">0.04</td><td style = \"text-align: right;\">0.67</td></tr><tr><td class = \"rowNumber\" style = \"font-weight: bold; text-align: right;\">4</td><td style = \"text-align: left;\">204</td><td style = \"text-align: right;\">0.004</td><td style = \"text-align: right;\">0.04</td><td style = \"text-align: right;\">0.67</td></tr><tr><td class = \"rowNumber\" style = \"font-weight: bold; text-align: right;\">5</td><td style = \"text-align: left;\">220</td><td style = \"text-align: right;\">0.004</td><td style = \"text-align: right;\">0.04</td><td style = \"text-align: right;\">0.67</td></tr><tr><td class = \"rowNumber\" style = \"font-weight: bold; text-align: right;\">6</td><td style = \"text-align: left;\">219</td><td style = \"text-align: right;\">0.002</td><td style = \"text-align: right;\">0.07</td><td style = \"text-align: right;\">0.67</td></tr><tr><td class = \"rowNumber\" style = \"font-weight: bold; text-align: right;\">7</td><td style = \"text-align: left;\">216</td><td style = \"text-align: right;\">0.004</td><td style = \"text-align: right;\">0.07</td><td style = \"text-align: right;\">0.67</td></tr><tr><td class = \"rowNumber\" style = \"font-weight: bold; text-align: right;\">8</td><td style = \"text-align: left;\">211</td><td style = \"text-align: right;\">0.002</td><td style = \"text-align: right;\">0.04</td><td style = \"text-align: right;\">1.33</td></tr><tr><td class = \"rowNumber\" style = \"font-weight: bold; text-align: right;\">9</td><td style = \"text-align: left;\">209</td><td style = \"text-align: right;\">0.002</td><td style = \"text-align: right;\">0.04</td><td style = \"text-align: right;\">0.67</td></tr><tr><td class = \"rowNumber\" style = \"font-weight: bold; text-align: right;\">10</td><td style = \"text-align: left;\">206</td><td style = \"text-align: right;\">0.004</td><td style = \"text-align: right;\">0.07</td><td style = \"text-align: right;\">0.67</td></tr><tr><td class = \"rowNumber\" style = \"font-weight: bold; text-align: right;\">11</td><td style = \"text-align: left;\">225</td><td style = \"text-align: right;\">0.004</td><td style = \"text-align: right;\">0.07</td><td style = \"text-align: right;\">0.67</td></tr><tr><td class = \"rowNumber\" style = \"font-weight: bold; text-align: right;\">12</td><td style = \"text-align: left;\">205</td><td style = \"text-align: right;\">0.002</td><td style = \"text-align: right;\">0.07</td><td style = \"text-align: right;\">0.67</td></tr><tr><td class = \"rowNumber\" style = \"font-weight: bold; text-align: right;\">13</td><td style = \"text-align: left;\">201</td><td style = \"text-align: right;\">0.002</td><td style = \"text-align: right;\">0.07</td><td style = \"text-align: right;\">0.67</td></tr><tr><td class = \"rowNumber\" style = \"font-weight: bold; text-align: right;\">14</td><td style = \"text-align: left;\">227</td><td style = \"text-align: right;\">0.002</td><td style = \"text-align: right;\">0.07</td><td style = \"text-align: right;\">0.67</td></tr><tr><td class = \"rowNumber\" style = \"font-weight: bold; text-align: right;\">15</td><td style = \"text-align: left;\">223</td><td style = \"text-align: right;\">0.002</td><td style = \"text-align: right;\">0.04</td><td style = \"text-align: right;\">1.33</td></tr><tr><td class = \"rowNumber\" style = \"font-weight: bold; text-align: right;\">16</td><td style = \"text-align: left;\">231</td><td style = \"text-align: right;\">0.002</td><td style = \"text-align: right;\">0.04</td><td style = \"text-align: right;\">0.67</td></tr><tr><td class = \"rowNumber\" style = \"font-weight: bold; text-align: right;\">17</td><td style = \"text-align: left;\">213</td><td style = \"text-align: right;\">0.002</td><td style = \"text-align: right;\">0.1</td><td style = \"text-align: right;\">0.67</td></tr><tr><td class = \"rowNumber\" style = \"font-weight: bold; text-align: right;\">18</td><td style = \"text-align: left;\">222</td><td style = \"text-align: right;\">0.002</td><td style = \"text-align: right;\">0.04</td><td style = \"text-align: right;\">1.33</td></tr><tr><td class = \"rowNumber\" style = \"font-weight: bold; text-align: right;\">19</td><td style = \"text-align: left;\">208</td><td style = \"text-align: right;\">0.004</td><td style = \"text-align: right;\">0.07</td><td style = \"text-align: right;\">0.67</td></tr><tr><td class = \"rowNumber\" style = \"font-weight: bold; text-align: right;\">20</td><td style = \"text-align: left;\">214</td><td style = \"text-align: right;\">0.002</td><td style = \"text-align: right;\">0.04</td><td style = \"text-align: right;\">0.67</td></tr><tr><td class = \"rowNumber\" style = \"font-weight: bold; text-align: right;\">21</td><td style = \"text-align: left;\">207</td><td style = \"text-align: right;\">0.002</td><td style = \"text-align: right;\">0.04</td><td style = \"text-align: right;\">0.67</td></tr><tr><td class = \"rowNumber\" style = \"font-weight: bold; text-align: right;\">22</td><td style = \"text-align: left;\">202</td><td style = \"text-align: right;\">0.004</td><td style = \"text-align: right;\">0.04</td><td style = \"text-align: right;\">0.67</td></tr><tr><td class = \"rowNumber\" style = \"font-weight: bold; text-align: right;\">23</td><td style = \"text-align: left;\">224</td><td style = \"text-align: right;\">0.002</td><td style = \"text-align: right;\">0.07</td><td style = \"text-align: right;\">0.0</td></tr><tr><td class = \"rowNumber\" style = \"font-weight: bold; text-align: right;\">24</td><td style = \"text-align: left;\">230</td><td style = \"text-align: right;\">0.002</td><td style = \"text-align: right;\">0.04</td><td style = \"text-align: right;\">0.67</td></tr><tr><td class = \"rowNumber\" style = \"font-weight: bold; text-align: right;\">25</td><td style = \"text-align: left;\">232</td><td style = \"text-align: right;\">0.004</td><td style = \"text-align: right;\">0.07</td><td style = \"text-align: right;\">0.67</td></tr></tbody></table></div>"
      ],
      "text/latex": [
       "\\begin{tabular}{r|cccc}\n",
       "\t& subject & d & s & t\\\\\n",
       "\t\\hline\n",
       "\t& String & Float64 & Float64 & Float64\\\\\n",
       "\t\\hline\n",
       "\t1 & 215 & 0.002 & 0.04 & 1.33 \\\\\n",
       "\t2 & 229 & 0.004 & 0.04 & 0.67 \\\\\n",
       "\t3 & 217 & 0.002 & 0.04 & 0.67 \\\\\n",
       "\t4 & 204 & 0.004 & 0.04 & 0.67 \\\\\n",
       "\t5 & 220 & 0.004 & 0.04 & 0.67 \\\\\n",
       "\t6 & 219 & 0.002 & 0.07 & 0.67 \\\\\n",
       "\t7 & 216 & 0.004 & 0.07 & 0.67 \\\\\n",
       "\t8 & 211 & 0.002 & 0.04 & 1.33 \\\\\n",
       "\t9 & 209 & 0.002 & 0.04 & 0.67 \\\\\n",
       "\t10 & 206 & 0.004 & 0.07 & 0.67 \\\\\n",
       "\t11 & 225 & 0.004 & 0.07 & 0.67 \\\\\n",
       "\t12 & 205 & 0.002 & 0.07 & 0.67 \\\\\n",
       "\t13 & 201 & 0.002 & 0.07 & 0.67 \\\\\n",
       "\t14 & 227 & 0.002 & 0.07 & 0.67 \\\\\n",
       "\t15 & 223 & 0.002 & 0.04 & 1.33 \\\\\n",
       "\t16 & 231 & 0.002 & 0.04 & 0.67 \\\\\n",
       "\t17 & 213 & 0.002 & 0.1 & 0.67 \\\\\n",
       "\t18 & 222 & 0.002 & 0.04 & 1.33 \\\\\n",
       "\t19 & 208 & 0.004 & 0.07 & 0.67 \\\\\n",
       "\t20 & 214 & 0.002 & 0.04 & 0.67 \\\\\n",
       "\t21 & 207 & 0.002 & 0.04 & 0.67 \\\\\n",
       "\t22 & 202 & 0.004 & 0.04 & 0.67 \\\\\n",
       "\t23 & 224 & 0.002 & 0.07 & 0.0 \\\\\n",
       "\t24 & 230 & 0.002 & 0.04 & 0.67 \\\\\n",
       "\t25 & 232 & 0.004 & 0.07 & 0.67 \\\\\n",
       "\\end{tabular}\n"
      ],
      "text/plain": [
       "\u001b[1m25×4 DataFrame\u001b[0m\n",
       "\u001b[1m Row \u001b[0m│\u001b[1m subject \u001b[0m\u001b[1m d       \u001b[0m\u001b[1m s       \u001b[0m\u001b[1m t       \u001b[0m\n",
       "     │\u001b[90m String  \u001b[0m\u001b[90m Float64 \u001b[0m\u001b[90m Float64 \u001b[0m\u001b[90m Float64 \u001b[0m\n",
       "─────┼────────────────────────────────────\n",
       "   1 │ 215        0.002     0.04     1.33\n",
       "   2 │ 229        0.004     0.04     0.67\n",
       "   3 │ 217        0.002     0.04     0.67\n",
       "   4 │ 204        0.004     0.04     0.67\n",
       "   5 │ 220        0.004     0.04     0.67\n",
       "   6 │ 219        0.002     0.07     0.67\n",
       "   7 │ 216        0.004     0.07     0.67\n",
       "   8 │ 211        0.002     0.04     1.33\n",
       "   9 │ 209        0.002     0.04     0.67\n",
       "  10 │ 206        0.004     0.07     0.67\n",
       "  11 │ 225        0.004     0.07     0.67\n",
       "  ⋮  │    ⋮        ⋮        ⋮        ⋮\n",
       "  16 │ 231        0.002     0.04     0.67\n",
       "  17 │ 213        0.002     0.1      0.67\n",
       "  18 │ 222        0.002     0.04     1.33\n",
       "  19 │ 208        0.004     0.07     0.67\n",
       "  20 │ 214        0.002     0.04     0.67\n",
       "  21 │ 207        0.002     0.04     0.67\n",
       "  22 │ 202        0.004     0.04     0.67\n",
       "  23 │ 224        0.002     0.07     0.0\n",
       "  24 │ 230        0.002     0.04     0.67\n",
       "  25 │ 232        0.004     0.07     0.67\n",
       "\u001b[36m                            4 rows omitted\u001b[0m"
      ]
     },
     "execution_count": 4,
     "metadata": {},
     "output_type": "execute_result"
    }
   ],
   "source": [
    "dInit = 0.005; # These can be anything. They exist because you need an aDDM object.\n",
    "σInit = 0.07;\n",
    "θInit = 0.3;\n",
    "\n",
    "addm = aDDM(dInit, σInit, θInit);\n",
    "\n",
    "dataGain = load_data_from_csv(\"../../data/expdataGain.csv\", \"../../data/fixationsGain.csv\", convertItemValues=nothing);\n",
    "\n",
    "subjectCount = length(collect(keys(dataGain)));\n",
    "dGain = Vector{Float64}(undef, subjectCount)\n",
    "σGain = Vector{Float64}(undef, subjectCount)\n",
    "θGain = Vector{Float64}(undef, subjectCount)\n",
    "ind = 1\n",
    "\n",
    "@showprogress for subject in collect(keys(dataGain))\n",
    "\n",
    "  dEst, σEst, θEst = aDDM_grid_search(addm, dataGain, dList, σList, θList, n, subject)\n",
    "\n",
    "  dGain[ind] = dEst[1]\n",
    "  σGain[ind] = σEst[1]\n",
    "  θGain[ind] = θEst[1]\n",
    "  ind += 1\n",
    "\n",
    "end\n",
    "\n",
    "dfGain = DataFrame(\n",
    "  subject = collect(keys(dataGain)),\n",
    "  d = dGain,\n",
    "  s = σGain,\n",
    "  t = θGain\n",
    ")"
   ]
  },
  {
   "cell_type": "markdown",
   "metadata": {},
   "source": [
    "### High-res Grid Search"
   ]
  },
  {
   "cell_type": "code",
   "execution_count": 8,
   "metadata": {},
   "outputs": [
    {
     "data": {
      "text/plain": [
       "0.002"
      ]
     },
     "execution_count": 8,
     "metadata": {},
     "output_type": "execute_result"
    }
   ],
   "source": [
    "dfGain[(dfGain.subject .== \"201\"), \"d\"][1]"
   ]
  },
  {
   "cell_type": "code",
   "execution_count": 10,
   "metadata": {},
   "outputs": [
    {
     "name": "stderr",
     "output_type": "stream",
     "text": [
      "\u001b[32mProgress: 100%|█████████████████████████████████████████| Time: 0:40:43\u001b[39m\n"
     ]
    }
   ],
   "source": [
    "\"\"\"\n",
    "ind = 1\n",
    "@showprogress for subject in collect(keys(dataGain))\n",
    "\n",
    "    d = dfGain[(dfGain.subject .== subject), \"d\"][1]\n",
    "    σ = dfGain[(dfGain.subject .== subject), \"s\"][1]\n",
    "    θ = dfGain[(dfGain.subject .== subject), \"t\"][1]\n",
    "\n",
    "    dLow = max(0, d-0.001);\n",
    "    dHigh = d+0.001;\n",
    "    σLow = max(0.001, σ-0.01);\n",
    "    σHigh = σ+0.01;\n",
    "    θLow = θ-0.1;\n",
    "    θHigh = θ+0.1;\n",
    "\n",
    "    dList = round.(LinRange(dLow, dHigh, 4), digits=4);\n",
    "    σList = round.(LinRange(σLow, σHigh, 4), digits=3);\n",
    "    θList = round.(LinRange(θLow, θHigh, 4), digits=2);  \n",
    "\n",
    "    dEst, σEst, θEst = aDDM_grid_search(addm, dataGain, dList, σList, θList, n, subject)\n",
    "  \n",
    "    dGain[ind] = dEst[1]\n",
    "    σGain[ind] = σEst[1]\n",
    "    θGain[ind] = θEst[1]\n",
    "    ind += 1\n",
    "  \n",
    "  end\n",
    "\"\"\""
   ]
  },
  {
   "cell_type": "markdown",
   "metadata": {},
   "source": [
    "## Fit Loss Data"
   ]
  },
  {
   "cell_type": "code",
   "execution_count": null,
   "metadata": {},
   "outputs": [],
   "source": [
    "dInit = 0.005;\n",
    "σInit = 0.07;\n",
    "θInit = 0.3;\n",
    "\n",
    "addm = aDDM(dInit, σInit, θInit);\n",
    "\n",
    "dataLoss = load_data_from_csv(\"../../data/expdataLoss.csv\", \"../../data/fixationsLoss.csv\", convertItemValues=nothing);\n",
    "\n",
    "subjectCount = length(collect(keys(data)));\n",
    "dLoss = Vector{Float64}(undef, subjectCount)\n",
    "σLoss = Vector{Float64}(undef, subjectCount)\n",
    "θLoss = Vector{Float64}(undef, subjectCount)\n",
    "ind = 1\n",
    "\n",
    "@showprogress for subject in collect(keys(data))\n",
    "\n",
    "  dEst, σEst, θEst = aDDM_grid_search(addm, dataLoss, dList, σList, θList, n, subject)\n",
    "\n",
    "  dLoss[ind] = dEst[1]\n",
    "  σLoss[ind] = σEst[1]\n",
    "  θLoss[ind] = θEst[1]\n",
    "  ind += 1\n",
    "\n",
    "end\n",
    "\n",
    "dfLoss = DataFrame(\n",
    "  subject = collect(keys(data)),\n",
    "  d = dLoss,\n",
    "  s = σLoss,\n",
    "  t = θLoss\n",
    ")"
   ]
  }
 ],
 "metadata": {
  "kernelspec": {
   "display_name": "Julia 1.9.3",
   "language": "julia",
   "name": "julia-1.9"
  },
  "language_info": {
   "file_extension": ".jl",
   "mimetype": "application/julia",
   "name": "julia",
   "version": "1.9.3"
  },
  "orig_nbformat": 4
 },
 "nbformat": 4,
 "nbformat_minor": 2
}
