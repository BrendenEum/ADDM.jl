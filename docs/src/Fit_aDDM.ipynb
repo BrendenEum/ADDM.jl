{
 "cells": [
  {
   "cell_type": "markdown",
   "metadata": {},
   "source": [
    "# Estimating the aDDM\n",
    "### Author: Brenden Eum (2023)\n",
    "\n",
    "This script will read already-transformed data containing trial-by-trial details and fixations and fit the aDDM to this data. It uses the Tavares Toolbox (Tavares et al. 2017) rewritten for Julia by Lynn in Summer 2023. See https://github.com/aDDM-Toolbox/ADDM.jl for the toolbox. \n",
    "\n",
    "I've made a changes to the toolbox in order to suit my project. Some of these are small changes, like changing object types, saving outputs to csv files, or changing the grid for grid search. I don't document small changes since they'll probably change over multiple iterations. I do document major changes to the toolbox: (1) The toolbox now fits the model to the output of load_data_from_csv instead of simulating data; (2) The toolbox no longer throws a domain error when $\\theta \\notin [0,1]$.\n",
    "\n",
    "Inputs for this notebook:\n",
    "- Data\n",
    "    - data/expdata*.csv:    Data pertaining to the details of each trial. An observation is a subject-trial. It must include the following columns [parcode,trial,rt,choice,item_left,item_right], which correspond to [subject, trial, response time in ms, choice (-1 left, 1 right), value of left item, value of right item] respectively.\n",
    "    - data/fixations*.csv:  Data pertaining to the fixations within each trial. An observation is a subject-trial-fixation. It must include columns [parcode,trial,fix_item,fix_time], which correspond to [subject, trial, fixation location (1 left, 2 right, otherwise other), fixation duration in ms].\n",
    "- Code\n",
    "    - src/ addm_grid_search.jl: Takes a grid of parameters, makes every combination, and calculates negative log likelihood (NLL) of aDDM for every combo given some data.\n",
    "    - addm.jl: Defines aDDM class and functions for calculating trial likelihood, summing likelihoods, and simulating.\n",
    "    - ddm.jl: Defines DDM class and functions for calculating trial likelihood, summing likelihoods, and simulating.\n",
    "    - util.jl: Contains functions for prepping data for aDDM fitting and estimating empirical fixation properties.\n",
    "\n",
    "\n",
    "Outputs for this notebook:\n",
    "- GainFit.csv:  aDDM estimates for the gain condition. Estimates are for subjects included in the input datasets.\n",
    "- LossFit.csv:  aDDM estimates for the loss condition."
   ]
  },
  {
   "cell_type": "markdown",
   "metadata": {},
   "source": [
    "# Preamble\n",
    "\n",
    "A set of standard things I like to do before getting started with any notebook."
   ]
  },
  {
   "cell_type": "code",
   "execution_count": 1,
   "metadata": {},
   "outputs": [
    {
     "name": "stderr",
     "output_type": "stream",
     "text": [
      "\u001b[32m\u001b[1m   Resolving\u001b[22m\u001b[39m package versions...\n",
      "\u001b[32m\u001b[1m  No Changes\u001b[22m\u001b[39m to `~/.julia/environments/v1.9/Project.toml`\n",
      "\u001b[32m\u001b[1m  No Changes\u001b[22m\u001b[39m to `~/.julia/environments/v1.9/Manifest.toml`\n",
      "\u001b[32m\u001b[1m   Resolving\u001b[22m\u001b[39m package versions...\n",
      "\u001b[32m\u001b[1m  No Changes\u001b[22m\u001b[39m to `~/.julia/environments/v1.9/Project.toml`\n",
      "\u001b[32m\u001b[1m  No Changes\u001b[22m\u001b[39m to `~/.julia/environments/v1.9/Manifest.toml`\n"
     ]
    }
   ],
   "source": [
    "import Pkg;\n",
    "Pkg.add(\"DataFrames\");\n",
    "Pkg.add(\"CSV\");\n",
    "using DataFrames;\n",
    "using CSV;"
   ]
  },
  {
   "cell_type": "markdown",
   "metadata": {},
   "source": [
    "# Activate the Environment\n",
    "\n",
    "Typically this happens by\n",
    "\n",
    "```\n",
    "using Pkg\n",
    "Pkg.activate(\"addm\")\n",
    "```\n",
    "\n",
    "**Note that single vs. double quotes matter.**\n",
    "\n",
    "But this does not work as expected in a notebook unless the `Project.toml` is in the same folder as the notebook file."
   ]
  },
  {
   "cell_type": "code",
   "execution_count": 2,
   "metadata": {},
   "outputs": [
    {
     "name": "stderr",
     "output_type": "stream",
     "text": [
      "\u001b[32m\u001b[1m  Activating\u001b[22m\u001b[39m project at `~/Toolboxes/ADDM.jl/docs/src/addm`\n",
      "\u001b[32m\u001b[1m  Activating\u001b[22m\u001b[39m project at `~/Toolboxes/ADDM.jl/docs/src/addm`\n",
      "\u001b[32m\u001b[1m  Activating\u001b[22m\u001b[39m project at `~/Toolboxes/ADDM.jl/docs/src/addm`\n",
      "\u001b[32m\u001b[1m  Activating\u001b[22m\u001b[39m project at `~/Toolboxes/ADDM.jl/docs/src/addm`\n",
      "\u001b[32m\u001b[1m  Activating\u001b[22m\u001b[39m project at `~/Toolboxes/ADDM.jl/docs/src/addm`\n",
      "\u001b[32m\u001b[1m  Activating\u001b[22m\u001b[39m project at `~/Toolboxes/ADDM.jl/docs/src/addm`\n"
     ]
    }
   ],
   "source": [
    "pwd();\n",
    "Base.load_path();\n",
    "include(\"../../src/addm_grid_search.jl\");\n",
    "Base.load_path();"
   ]
  },
  {
   "cell_type": "markdown",
   "metadata": {},
   "source": [
    "# Fit the aDDM\n",
    "\n",
    "Let's do a 2-iteration grid search. We'll start with a low resolution grid search, then once we have rough estimates per subject, we can zoom into the region around the rough estimates for a precise measure.\n",
    "\n",
    "### Prep for gain and loss: load data, placeholders, set step sizes"
   ]
  },
  {
   "cell_type": "code",
   "execution_count": 31,
   "metadata": {},
   "outputs": [],
   "source": [
    "addm = aDDM(.005, .07, .3); # These can be anything. They exist because you need an aDDM object. (d, s, t).\n",
    "\n",
    "dataGain = load_data_from_csv(\"../../data/expdataGain.csv\", \"../../data/fixationsGain.csv\", convertItemValues=nothing)\n",
    "dataLoss = load_data_from_csv(\"../../data/expdataLoss.csv\", \"../../data/fixationsLoss.csv\", convertItemValues=nothing);\n",
    "\n",
    "subjectCount = length(collect(keys(dataGain)))\n",
    "\n",
    "dStepSize1 = .001\n",
    "σStepSize1 = .04\n",
    "θStepSize1 = .2\n",
    "bStepSize1 = .1   \n",
    "\n",
    "dStepSize2 = .0005\n",
    "σStepSize2 = .02\n",
    "θStepSize2 = .1\n",
    "bStepSize2 = .05\n",
    "\n",
    "dStepSize3 = .0001\n",
    "σStepSize3 = .01\n",
    "θStepSize3 = .01\n",
    "bStepSize3 = .01;\n",
    "\n",
    "dInitialGrid = Any[]\n",
    "σInitialGrid = Any[]\n",
    "θInitialGrid = Any[]\n",
    "bInitialGrid = Any[]\n",
    "for subject in collect(keys(dataGain))\n",
    "    push!(dInitialGrid, [0:dStepSize1:.006;])   \n",
    "    push!(σInitialGrid, [0.01:σStepSize1:.09;])    \n",
    "    push!(θInitialGrid, [0:θStepSize1:2;])    \n",
    "    push!(bInitialGrid, [-.1:bStepSize1:.1;]) \n",
    "end\n"
   ]
  },
  {
   "cell_type": "markdown",
   "metadata": {},
   "source": [
    "### Function: Grid search and report data frame"
   ]
  },
  {
   "cell_type": "code",
   "execution_count": 34,
   "metadata": {},
   "outputs": [
    {
     "data": {
      "text/plain": [
       "fit_aDDM_custom_resolution (generic function with 2 methods)"
      ]
     },
     "execution_count": 34,
     "metadata": {},
     "output_type": "execute_result"
    }
   ],
   "source": [
    "function fit_aDDM_custom_resolution(addm::aDDM, data::Dict{String, Vector{aDDMTrial}}, dGrid::Vector{Any}, σGrid::Vector{Any}, θGrid::Vector{Any}, bGrid::Vector{Any}, subjectCount::Number)\n",
    "    \"\"\"\n",
    "    \"\"\"\n",
    "\n",
    "    print(\"Approx how many likelihoods to calculate per subject: \")\n",
    "    print(length(dGrid[1])*length(σGrid[1])*length(θGrid[1])*length(bGrid[1]))\n",
    "\n",
    "    dList = Vector{Float64}(undef, subjectCount)\n",
    "    σList = Vector{Float64}(undef, subjectCount)\n",
    "    θList = Vector{Float64}(undef, subjectCount)\n",
    "    bList = Vector{Float64}(undef, subjectCount)\n",
    "    NLLsList = Vector{Float64}(undef, subjectCount);\n",
    "\n",
    "    ind = 1\n",
    "    @showprogress for subject in collect(keys(data))\n",
    "\n",
    "        dEst, σEst, θEst, bEst, NLL_Indiv = aDDM_grid_search(addm, data, dGrid[ind], σGrid[ind], θGrid[ind], bGrid[ind], subject)\n",
    "    \n",
    "        dList[ind] = dEst[1]\n",
    "        σList[ind] = σEst[1]\n",
    "        θList[ind] = θEst[1]\n",
    "        bList[ind] = bEst[1]\n",
    "        NLLsList[ind] = NLL_Indiv\n",
    "        ind += 1\n",
    "    \n",
    "    end\n",
    "\n",
    "    df = DataFrame(\n",
    "        subject = collect(keys(data)),\n",
    "        d = dList,\n",
    "        s = σList,\n",
    "        t = θList,\n",
    "        b = bList\n",
    "    )\n",
    "    df = sort(df, :subject)\n",
    "    NLL = sum(NLLsList)\n",
    "    return df, NLL\n",
    "end"
   ]
  },
  {
   "cell_type": "markdown",
   "metadata": {},
   "source": [
    "## Gain Data"
   ]
  },
  {
   "cell_type": "markdown",
   "metadata": {},
   "source": [
    "### Low resolution grid search\n",
    "40 mins"
   ]
  },
  {
   "cell_type": "code",
   "execution_count": 35,
   "metadata": {},
   "outputs": [
    {
     "name": "stdout",
     "output_type": "stream",
     "text": [
      "Approx how many likelihoods to calculate per subject: 693"
     ]
    },
    {
     "name": "stderr",
     "output_type": "stream",
     "text": [
      "\u001b[32mProgress:  12%|████▉                                    |  ETA: 0:16:39\u001b[39m"
     ]
    },
    {
     "ename": "LoadError",
     "evalue": "TaskFailedException\n\n\u001b[91m    nested task error: \u001b[39mInterruptException:\n    Stacktrace:\n     [1] \u001b[0m\u001b[1mbroadcasted\u001b[22m\n    \u001b[90m   @\u001b[39m \u001b[90m./\u001b[39m\u001b[90m\u001b[4mbroadcast.jl:1319\u001b[24m\u001b[39m\u001b[90m [inlined]\u001b[39m\n     [2] \u001b[0m\u001b[1mbroadcasted\u001b[22m\u001b[0m\u001b[1m(\u001b[22m::\u001b[0mFunction, ::\u001b[0mBase.Broadcast.Broadcasted\u001b[90m{Base.Broadcast.DefaultArrayStyle{1}, Nothing, typeof(>=), Tuple{StepRangeLen{Float64, Base.TwicePrecision{Float64}, Base.TwicePrecision{Float64}, Int64}, Int64}}\u001b[39m, ::\u001b[0mBase.Broadcast.Broadcasted\u001b[90m{Base.Broadcast.DefaultArrayStyle{1}, Nothing, typeof(<=), Tuple{StepRangeLen{Float64, Base.TwicePrecision{Float64}, Base.TwicePrecision{Float64}, Int64}, Int64}}\u001b[39m\u001b[0m\u001b[1m)\u001b[22m\n    \u001b[90m   @\u001b[39m \u001b[90mBase.Broadcast\u001b[39m \u001b[90m./\u001b[39m\u001b[90m\u001b[4mbroadcast.jl:1317\u001b[24m\u001b[39m\n     [3] \u001b[0m\u001b[1maDDM_get_trial_likelihood\u001b[22m\u001b[0m\u001b[1m(\u001b[22m\u001b[90maddm\u001b[39m::\u001b[0maDDM, \u001b[90mtrial\u001b[39m::\u001b[0maDDMTrial; \u001b[90mtimeStep\u001b[39m::\u001b[0mFloat64, \u001b[90mapproxStateStep\u001b[39m::\u001b[0mFloat64, \u001b[90mplotTrial\u001b[39m::\u001b[0mBool, \u001b[90mdecay\u001b[39m::\u001b[0mFloat64\u001b[0m\u001b[1m)\u001b[22m\n    \u001b[90m   @\u001b[39m \u001b[35mMain\u001b[39m \u001b[90m~/Toolboxes/ADDM.jl/src/\u001b[39m\u001b[90m\u001b[4maddm.jl:282\u001b[24m\u001b[39m\n     [4] \u001b[0m\u001b[1maDDM_get_trial_likelihood\u001b[22m\n    \u001b[90m   @\u001b[39m \u001b[90m~/Toolboxes/ADDM.jl/src/\u001b[39m\u001b[90m\u001b[4maddm.jl:149\u001b[24m\u001b[39m\u001b[90m [inlined]\u001b[39m\n     [5] \u001b[0m\u001b[1mmacro expansion\u001b[22m\n    \u001b[90m   @\u001b[39m \u001b[90m~/Toolboxes/ADDM.jl/src/\u001b[39m\u001b[90m\u001b[4maddm.jl:597\u001b[24m\u001b[39m\u001b[90m [inlined]\u001b[39m\n     [6] \u001b[0m\u001b[1m(::var\"#133#threadsfor_fun#84\"{var\"#133#threadsfor_fun#83#85\"{aDDM, Vector{aDDMTrial}, UnitRange{Int64}}})\u001b[22m\u001b[0m\u001b[1m(\u001b[22m\u001b[90mtid\u001b[39m::\u001b[0mInt64; \u001b[90monethread\u001b[39m::\u001b[0mBool\u001b[0m\u001b[1m)\u001b[22m\n    \u001b[90m   @\u001b[39m \u001b[35mMain\u001b[39m \u001b[90m./\u001b[39m\u001b[90m\u001b[4mthreadingconstructs.jl:200\u001b[24m\u001b[39m\n     [7] \u001b[0m\u001b[1m#133#threadsfor_fun\u001b[22m\n    \u001b[90m   @\u001b[39m \u001b[90m./\u001b[39m\u001b[90m\u001b[4mthreadingconstructs.jl:167\u001b[24m\u001b[39m\u001b[90m [inlined]\u001b[39m\n     [8] \u001b[0m\u001b[1m(::Base.Threads.var\"#1#2\"{var\"#133#threadsfor_fun#84\"{var\"#133#threadsfor_fun#83#85\"{aDDM, Vector{aDDMTrial}, UnitRange{Int64}}}, Int64})\u001b[22m\u001b[0m\u001b[1m(\u001b[22m\u001b[0m\u001b[1m)\u001b[22m\n    \u001b[90m   @\u001b[39m \u001b[90mBase.Threads\u001b[39m \u001b[90m./\u001b[39m\u001b[90m\u001b[4mthreadingconstructs.jl:139\u001b[24m\u001b[39m",
     "output_type": "error",
     "traceback": [
      "TaskFailedException\n\n\u001b[91m    nested task error: \u001b[39mInterruptException:\n    Stacktrace:\n     [1] \u001b[0m\u001b[1mbroadcasted\u001b[22m\n    \u001b[90m   @\u001b[39m \u001b[90m./\u001b[39m\u001b[90m\u001b[4mbroadcast.jl:1319\u001b[24m\u001b[39m\u001b[90m [inlined]\u001b[39m\n     [2] \u001b[0m\u001b[1mbroadcasted\u001b[22m\u001b[0m\u001b[1m(\u001b[22m::\u001b[0mFunction, ::\u001b[0mBase.Broadcast.Broadcasted\u001b[90m{Base.Broadcast.DefaultArrayStyle{1}, Nothing, typeof(>=), Tuple{StepRangeLen{Float64, Base.TwicePrecision{Float64}, Base.TwicePrecision{Float64}, Int64}, Int64}}\u001b[39m, ::\u001b[0mBase.Broadcast.Broadcasted\u001b[90m{Base.Broadcast.DefaultArrayStyle{1}, Nothing, typeof(<=), Tuple{StepRangeLen{Float64, Base.TwicePrecision{Float64}, Base.TwicePrecision{Float64}, Int64}, Int64}}\u001b[39m\u001b[0m\u001b[1m)\u001b[22m\n    \u001b[90m   @\u001b[39m \u001b[90mBase.Broadcast\u001b[39m \u001b[90m./\u001b[39m\u001b[90m\u001b[4mbroadcast.jl:1317\u001b[24m\u001b[39m\n     [3] \u001b[0m\u001b[1maDDM_get_trial_likelihood\u001b[22m\u001b[0m\u001b[1m(\u001b[22m\u001b[90maddm\u001b[39m::\u001b[0maDDM, \u001b[90mtrial\u001b[39m::\u001b[0maDDMTrial; \u001b[90mtimeStep\u001b[39m::\u001b[0mFloat64, \u001b[90mapproxStateStep\u001b[39m::\u001b[0mFloat64, \u001b[90mplotTrial\u001b[39m::\u001b[0mBool, \u001b[90mdecay\u001b[39m::\u001b[0mFloat64\u001b[0m\u001b[1m)\u001b[22m\n    \u001b[90m   @\u001b[39m \u001b[35mMain\u001b[39m \u001b[90m~/Toolboxes/ADDM.jl/src/\u001b[39m\u001b[90m\u001b[4maddm.jl:282\u001b[24m\u001b[39m\n     [4] \u001b[0m\u001b[1maDDM_get_trial_likelihood\u001b[22m\n    \u001b[90m   @\u001b[39m \u001b[90m~/Toolboxes/ADDM.jl/src/\u001b[39m\u001b[90m\u001b[4maddm.jl:149\u001b[24m\u001b[39m\u001b[90m [inlined]\u001b[39m\n     [5] \u001b[0m\u001b[1mmacro expansion\u001b[22m\n    \u001b[90m   @\u001b[39m \u001b[90m~/Toolboxes/ADDM.jl/src/\u001b[39m\u001b[90m\u001b[4maddm.jl:597\u001b[24m\u001b[39m\u001b[90m [inlined]\u001b[39m\n     [6] \u001b[0m\u001b[1m(::var\"#133#threadsfor_fun#84\"{var\"#133#threadsfor_fun#83#85\"{aDDM, Vector{aDDMTrial}, UnitRange{Int64}}})\u001b[22m\u001b[0m\u001b[1m(\u001b[22m\u001b[90mtid\u001b[39m::\u001b[0mInt64; \u001b[90monethread\u001b[39m::\u001b[0mBool\u001b[0m\u001b[1m)\u001b[22m\n    \u001b[90m   @\u001b[39m \u001b[35mMain\u001b[39m \u001b[90m./\u001b[39m\u001b[90m\u001b[4mthreadingconstructs.jl:200\u001b[24m\u001b[39m\n     [7] \u001b[0m\u001b[1m#133#threadsfor_fun\u001b[22m\n    \u001b[90m   @\u001b[39m \u001b[90m./\u001b[39m\u001b[90m\u001b[4mthreadingconstructs.jl:167\u001b[24m\u001b[39m\u001b[90m [inlined]\u001b[39m\n     [8] \u001b[0m\u001b[1m(::Base.Threads.var\"#1#2\"{var\"#133#threadsfor_fun#84\"{var\"#133#threadsfor_fun#83#85\"{aDDM, Vector{aDDMTrial}, UnitRange{Int64}}}, Int64})\u001b[22m\u001b[0m\u001b[1m(\u001b[22m\u001b[0m\u001b[1m)\u001b[22m\n    \u001b[90m   @\u001b[39m \u001b[90mBase.Threads\u001b[39m \u001b[90m./\u001b[39m\u001b[90m\u001b[4mthreadingconstructs.jl:139\u001b[24m\u001b[39m",
      "",
      "Stacktrace:",
      "  [1] threading_run(fun::var\"#133#threadsfor_fun#84\"{var\"#133#threadsfor_fun#83#85\"{aDDM, Vector{aDDMTrial}, UnitRange{Int64}}}, static::Bool)",
      "    @ Base.Threads ./threadingconstructs.jl:157",
      "  [2] macro expansion",
      "    @ ./threadingconstructs.jl:205 [inlined]",
      "  [3] aDDM_negative_log_likelihood_threads(addm::aDDM, addmTrials::Vector{aDDMTrial}, d::Float64, σ::Float64, θ::Float64, b::Float64)",
      "    @ Main ~/Toolboxes/ADDM.jl/src/addm.jl:596",
      "  [4] #100",
      "    @ ./essentials.jl:0 [inlined]",
      "  [5] iterate",
      "    @ ./generator.jl:47 [inlined]",
      "  [6] collect_to!(dest::Array{Float64, 4}, itr::Base.Generator{Array{NTuple{4, Float64}, 4}, var\"#100#102\"{aDDM, Dict{String, Vector{aDDMTrial}}, String}}, offs::Int64, st::Int64)",
      "    @ Base ./array.jl:840",
      "  [7] collect_to_with_first!(dest::Array{Float64, 4}, v1::Float64, itr::Base.Generator{Array{NTuple{4, Float64}, 4}, var\"#100#102\"{aDDM, Dict{String, Vector{aDDMTrial}}, String}}, st::Int64)",
      "    @ Base ./array.jl:818",
      "  [8] collect(itr::Base.Generator{Array{NTuple{4, Float64}, 4}, var\"#100#102\"{aDDM, Dict{String, Vector{aDDMTrial}}, String}})",
      "    @ Base ./array.jl:792",
      "  [9] aDDM_grid_search(addm::aDDM, addmTrials::Dict{String, Vector{aDDMTrial}}, dList::Vector{Float64}, σList::Vector{Float64}, θList::Vector{Float64}, bList::Vector{Float64}, subject::String)",
      "    @ Main ~/Toolboxes/ADDM.jl/src/addm_grid_search.jl:48",
      " [10] macro expansion",
      "    @ ./In[34]:17 [inlined]",
      " [11] macro expansion",
      "    @ ~/.julia/packages/ProgressMeter/Z4hZi/src/ProgressMeter.jl:954 [inlined]",
      " [12] fit_aDDM_custom_resolution(addm::aDDM, data::Dict{String, Vector{aDDMTrial}}, dGrid::Vector{Any}, σGrid::Vector{Any}, θGrid::Vector{Any}, bGrid::Vector{Any}, subjectCount::Int64)",
      "    @ Main ./In[34]:15",
      " [13] top-level scope",
      "    @ In[35]:1"
     ]
    }
   ],
   "source": [
    "dfGain_LowRes, NLL = fit_aDDM_custom_resolution(addm, dataGain, dInitialGrid, σInitialGrid, θInitialGrid, bInitialGrid, subjectCount)"
   ]
  },
  {
   "cell_type": "code",
   "execution_count": null,
   "metadata": {},
   "outputs": [],
   "source": [
    "\"\"\"\n",
    "ind = 1\n",
    "\n",
    "@showprogress for subject in collect(keys(data))\n",
    "\n",
    "  dEst, σEst, θEst, bEst, NLL = aDDM_grid_search(addm, data, dGridLow, σGridLow, θGridLow, bGridLow, subject)\n",
    "\n",
    "  dList[ind] = dEst[1]\n",
    "  σList[ind] = σEst[1]\n",
    "  θList[ind] = θEst[1]\n",
    "  bList[ind] = bEst[1]\n",
    "  NLLsList[ind] = NLL\n",
    "  ind += 1\n",
    "\n",
    "end\n",
    "\n",
    "dfGain_LowRes = DataFrame(\n",
    "  subject = collect(keys(data)),\n",
    "  d = dList,\n",
    "  s = σList,\n",
    "  t = θList,\n",
    "  b = bList\n",
    ")\n",
    "dfGain_LowRes = sort(dfGain_LowRes, :subject)\n",
    "NLLGain_LowRes = sum(NLLsList) \n",
    "println(NLLGain_LowRes)\n",
    "dfGain_LowRes\n",
    "\"\"\""
   ]
  },
  {
   "cell_type": "markdown",
   "metadata": {},
   "source": [
    "### Medium resolution grid search\n",
    "1 hr"
   ]
  },
  {
   "cell_type": "code",
   "execution_count": null,
   "metadata": {},
   "outputs": [],
   "source": [
    "d = dfGain_LowRes[(dfGain_LowRes.subject .== subject), \"d\"][1]\n",
    "σ = dfGain_LowRes[(dfGain_LowRes.subject .== subject), \"s\"][1]\n",
    "θ = dfGain_LowRes[(dfGain_LowRes.subject .== subject), \"t\"][1]\n",
    "b = dfGain_LowRes[(dfGain_LowRes.subject .== subject), \"b\"][1]\n",
    "\n",
    "dLow = d-(dStepSize1/2);\n",
    "dHigh = d+(dStepSize1/2);\n",
    "σLow = max(0.001, σ-(σStepSize1/2));\n",
    "σHigh = σ+(σStepSize1/2);\n",
    "θLow = θ-(θStepSize1/2);\n",
    "θHigh = θ+(θStepSize1/2);\n",
    "bLow = max(-.99, b-(bStepSize1/2));\n",
    "bHigh = min(.99, b+(bStepSize1/2));\n",
    "\n",
    "dGrid = [dLow:dStepSize2:dHigh;]      \n",
    "σGrid = [σLow:σStepSize2:σHigh;]    \n",
    "θGrid = [θLow:θStepSize2:θHigh;]           \n",
    "bGrid = [bLow:bStepSize2:bHigh;]  \n",
    "\n",
    "dfGain_MedRes, NLL = fit_aDDM_custom_resolution(addm, dataGain, dGrid, σGrid, θGrid, bGrid, subjectCount)"
   ]
  },
  {
   "cell_type": "code",
   "execution_count": null,
   "metadata": {},
   "outputs": [],
   "source": [
    "\"\"\"\n",
    "ind = 1\n",
    "\n",
    "@showprogress for subject in collect(keys(data))\n",
    "\n",
    "    \n",
    "\n",
    "    \n",
    "    \n",
    "    print(\"How many likelihoods to calculate: \")\n",
    "    print(length(dGrid)*length(σGrid)*length(θGrid)*length(bGrid))\n",
    "\n",
    "    dEst, σEst, θEst, bEst, NLL = aDDM_grid_search(addm, data, dGrid, σGrid, θGrid, bGrid, subject)\n",
    "  \n",
    "    dList[ind] = dEst[1]\n",
    "    σList[ind] = σEst[1]\n",
    "    θList[ind] = θEst[1]\n",
    "    bList[ind] = bEst[1]\n",
    "    NLLsList[ind] = NLL\n",
    "    ind += 1\n",
    "  \n",
    "  end\n",
    "\n",
    "dfGain_MedRes = DataFrame(\n",
    "  subject = collect(keys(data)),\n",
    "  d = dList,\n",
    "  s = σList,\n",
    "  t = θList,\n",
    "  b = bList\n",
    ")\n",
    "dfGain_MedRes = sort(dfGain_MedRes, :subject)\n",
    "NLLGain_MedRes = sum(NLLsList)\n",
    "println(NLLGain_MedRes)\n",
    "dfGain_MedRes\n",
    "\"\"\""
   ]
  },
  {
   "cell_type": "markdown",
   "metadata": {},
   "source": [
    "### High resolution grid search\n",
    "12 mins"
   ]
  },
  {
   "cell_type": "code",
   "execution_count": null,
   "metadata": {},
   "outputs": [],
   "source": [
    "d = dfGain_MedRes[(dfGain_MedRes.subject .== subject), \"d\"][1]\n",
    "σ = dfGain_MedRes[(dfGain_MedRes.subject .== subject), \"s\"][1]\n",
    "θ = dfGain_MedRes[(dfGain_MedRes.subject .== subject), \"t\"][1]\n",
    "b = dfGain_MedRes[(dfGain_MedRes.subject .== subject), \"b\"][1]\n",
    "\n",
    "dLow = d-(dStepSize2/2);\n",
    "dHigh = d+(dStepSize2/2);\n",
    "σLow = max(0.001, σ-(σStepSize2/2));\n",
    "σHigh = σ+(σStepSize2/2);\n",
    "θLow = θ-(θStepSize2/2);\n",
    "θHigh = θ+(θStepSize2/2);\n",
    "bLow = max(-.99, b-(bStepSize2/2));\n",
    "bHigh = min(.99, b+(bStepSize2/2));\n",
    "\n",
    "dGrid = [dLow:dStepSize3:dHigh;]      \n",
    "σGrid = [σLow:σStepSize3:σHigh;]    \n",
    "θGrid = [θLow:θStepSize3:θHigh;]           \n",
    "bGrid = [bLow:bStepSize3:bHigh;] \n",
    "\n",
    "dfGain_HiRes, NLL = fit_aDDM_custom_resolution(addm, dataGain, dGrid, σGrid, θGrid, bGrid, subjectCount)"
   ]
  },
  {
   "cell_type": "code",
   "execution_count": null,
   "metadata": {},
   "outputs": [],
   "source": [
    "\"\"\"\n",
    "ind = 1\n",
    "\n",
    "@showprogress for subject in collect(keys(data))\n",
    "\n",
    "    d = dfGain_MedRes[(dfGain_MedRes.subject .== subject), \"d\"][1]\n",
    "    σ = dfGain_MedRes[(dfGain_MedRes.subject .== subject), \"s\"][1]\n",
    "    θ = dfGain_MedRes[(dfGain_MedRes.subject .== subject), \"t\"][1]\n",
    "    b = dfGain_MedRes[(dfGain_MedRes.subject .== subject), \"b\"][1]\n",
    "\n",
    "    dLow = d-(dStepSize2/2);\n",
    "    dHigh = d+(dStepSize2/2);\n",
    "    σLow = max(0.001, σ-(σStepSize2/2));\n",
    "    σHigh = σ+(σStepSize2/2);\n",
    "    θLow = θ-(θStepSize2/2);\n",
    "    θHigh = θ+(θStepSize2/2);\n",
    "    bLow = max(-.99, b-(bStepSize2/2));\n",
    "    bHigh = min(.99, b+(bStepSize2/2));\n",
    "\n",
    "    dGrid = [dLow:dStepSize3:dHigh;]      \n",
    "    σGrid = [σLow:σStepSize3:σHigh;]    \n",
    "    θGrid = [θLow:θStepSize3:θHigh;]           \n",
    "    bGrid = [bLow:bStepSize3:bHigh;] \n",
    "\n",
    "    print(\"How many likelihoods to calculate: \")\n",
    "    print(length(dGrid)*length(σGrid)*length(θGrid)*length(bGrid))\n",
    "\n",
    "    dEst, σEst, θEst, bEst, NLL = aDDM_grid_search(addm, data, dGrid, σGrid, θGrid, bGrid, subject)\n",
    "  \n",
    "    dList[ind] = dEst[1]\n",
    "    σList[ind] = σEst[1]\n",
    "    θList[ind] = θEst[1]\n",
    "    bList[ind] = bEst[1]\n",
    "    NLLsList[ind] = NLL\n",
    "    ind += 1\n",
    "  \n",
    "  end\n",
    "\n",
    "dfGain_HiRes = DataFrame(\n",
    "  subject = collect(keys(data)),\n",
    "  d = round.(dList; digits=4),\n",
    "  s = round.(σList; digits=2),\n",
    "  t = round.(θList; digits=2),\n",
    "  b = round.(bList; digits=2)\n",
    ")\n",
    "dfGain_HiRes = sort(dfGain_HiRes, :subject)\n",
    "NLLGain_HiRes = sum(NLLsList)\n",
    "println(NLLGain_HiRes)\n",
    "CSV.write(\"GainFit.csv\", dfGain_HiRes)\n",
    "dfGain_HiRes\n",
    "\"\"\""
   ]
  },
  {
   "cell_type": "markdown",
   "metadata": {},
   "source": [
    "## Fit Loss Data"
   ]
  },
  {
   "cell_type": "markdown",
   "metadata": {},
   "source": [
    "### Low resolution grid search\n",
    "30 mins"
   ]
  },
  {
   "cell_type": "code",
   "execution_count": 9,
   "metadata": {},
   "outputs": [
    {
     "name": "stdout",
     "output_type": "stream",
     "text": [
      "How many likelihoods to calculate: 693"
     ]
    },
    {
     "name": "stderr",
     "output_type": "stream",
     "text": [
      "\u001b[32mProgress: 100%|█████████████████████████████████████████| Time: 0:25:55\u001b[39m\n"
     ]
    },
    {
     "data": {
      "text/plain": [
       "(\u001b[1m25×5 DataFrame\u001b[0m\n",
       "\u001b[1m Row \u001b[0m│\u001b[1m subject \u001b[0m\u001b[1m d       \u001b[0m\u001b[1m s       \u001b[0m\u001b[1m t       \u001b[0m\u001b[1m b       \u001b[0m\n",
       "     │\u001b[90m String  \u001b[0m\u001b[90m Float64 \u001b[0m\u001b[90m Float64 \u001b[0m\u001b[90m Float64 \u001b[0m\u001b[90m Float64 \u001b[0m\n",
       "─────┼─────────────────────────────────────────────\n",
       "   1 │ 201        0.001     0.05      1.8      0.0\n",
       "   2 │ 202        0.001     0.05      2.0      0.1\n",
       "   3 │ 204        0.002     0.05      1.2      0.0\n",
       "   4 │ 205        0.0       0.09      0.0      0.0\n",
       "   5 │ 206        0.002     0.05      1.4      0.1\n",
       "   6 │ 207        0.001     0.05      0.8      0.0\n",
       "   7 │ 208        0.002     0.09      2.0      0.0\n",
       "   8 │ 209        0.001     0.05      1.6      0.0\n",
       "   9 │ 211        0.001     0.05      1.8      0.0\n",
       "  10 │ 213        0.002     0.09      1.6      0.0\n",
       "  11 │ 214        0.0       0.05      0.0      0.0\n",
       "  ⋮  │    ⋮        ⋮        ⋮        ⋮        ⋮\n",
       "  16 │ 220        0.002     0.05      1.2      0.1\n",
       "  17 │ 222        0.001     0.05      1.0      0.0\n",
       "  18 │ 223        0.002     0.05      1.0      0.0\n",
       "  19 │ 224        0.003     0.05      1.0      0.0\n",
       "  20 │ 225        0.003     0.05      1.2      0.0\n",
       "  21 │ 227        0.001     0.05      1.2      0.0\n",
       "  22 │ 229        0.001     0.05      1.0      0.0\n",
       "  23 │ 230        0.001     0.05      1.0      0.0\n",
       "  24 │ 231        0.001     0.05      1.2      0.0\n",
       "  25 │ 232        0.002     0.05      2.0      0.1\n",
       "\u001b[36m                                     4 rows omitted\u001b[0m, 13263.048757815815)"
      ]
     },
     "execution_count": 9,
     "metadata": {},
     "output_type": "execute_result"
    }
   ],
   "source": [
    "dfLoss_LowRes, NLL = fit_aDDM_custom_resolution(addm, dataLoss, dInitialGrid, σInitialGrid, θInitialGrid, bInitialGrid, subjectCount)"
   ]
  },
  {
   "cell_type": "code",
   "execution_count": 10,
   "metadata": {},
   "outputs": [
    {
     "data": {
      "text/plain": [
       "\"ind = 1\\n\\n@showprogress for subject in collect(keys(data))\\n\\n  dEst, σEst, θEst, bEst, NLL = aDDM_grid_search(addm, data, dGridLow, σGridLow, θGridLow, bGridLow, subject)\\n\\n  dList[ind] = dEst[1]\\n  σList[ind] = σEst[1]\\n  θList[ind] = θEst[1]\\n  bList[ind] = bEst[1]\\n  NLLsList[ind] = NLL\\n  ind += 1\\n\\nend\\n\\ndfLoss_LowRes = DataFrame(\\n  subject = collect(keys(data)),\\n  d = dList,\\n  s = σList,\\n  t = θList,\\n  b = bList\\n)\\ndfLoss_LowRes = sort(dfLoss_LowRes, :subject)\\nNLLLoss_LowRes = sum(NLLsList) \\nprintln(NLLLoss_LowRes)\\ndfLoss_LowRes\\n\""
      ]
     },
     "execution_count": 10,
     "metadata": {},
     "output_type": "execute_result"
    }
   ],
   "source": [
    "\"\"\"\n",
    "ind = 1\n",
    "\n",
    "@showprogress for subject in collect(keys(data))\n",
    "\n",
    "  dEst, σEst, θEst, bEst, NLL = aDDM_grid_search(addm, data, dGridLow, σGridLow, θGridLow, bGridLow, subject)\n",
    "\n",
    "  dList[ind] = dEst[1]\n",
    "  σList[ind] = σEst[1]\n",
    "  θList[ind] = θEst[1]\n",
    "  bList[ind] = bEst[1]\n",
    "  NLLsList[ind] = NLL\n",
    "  ind += 1\n",
    "\n",
    "end\n",
    "\n",
    "dfLoss_LowRes = DataFrame(\n",
    "  subject = collect(keys(data)),\n",
    "  d = dList,\n",
    "  s = σList,\n",
    "  t = θList,\n",
    "  b = bList\n",
    ")\n",
    "dfLoss_LowRes = sort(dfLoss_LowRes, :subject)\n",
    "NLLLoss_LowRes = sum(NLLsList) \n",
    "println(NLLLoss_LowRes)\n",
    "dfLoss_LowRes\n",
    "\"\"\""
   ]
  },
  {
   "cell_type": "markdown",
   "metadata": {},
   "source": [
    "### Medium resolution grid search\n",
    "1 hr 10 mins"
   ]
  },
  {
   "cell_type": "code",
   "execution_count": 37,
   "metadata": {},
   "outputs": [
    {
     "name": "stdout",
     "output_type": "stream",
     "text": [
      "Approx how many likelihoods to calculate per subject: 81"
     ]
    },
    {
     "name": "stderr",
     "output_type": "stream",
     "text": [
      "\u001b[32mProgress: 100%|█████████████████████████████████████████| Time: 0:02:12\u001b[39m\n"
     ]
    },
    {
     "data": {
      "text/plain": [
       "(\u001b[1m25×5 DataFrame\u001b[0m\n",
       "\u001b[1m Row \u001b[0m│\u001b[1m subject \u001b[0m\u001b[1m d       \u001b[0m\u001b[1m s       \u001b[0m\u001b[1m t       \u001b[0m\u001b[1m b       \u001b[0m\n",
       "     │\u001b[90m String  \u001b[0m\u001b[90m Float64 \u001b[0m\u001b[90m Float64 \u001b[0m\u001b[90m Float64 \u001b[0m\u001b[90m Float64 \u001b[0m\n",
       "─────┼─────────────────────────────────────────────\n",
       "   1 │ 201       0.001      0.05      1.7     0.0\n",
       "   2 │ 202       0.001      0.05      2.1     0.05\n",
       "   3 │ 204       0.002      0.05      1.1     0.0\n",
       "   4 │ 205      -0.0005     0.07     -0.1     0.0\n",
       "   5 │ 206       0.002      0.05      1.3     0.05\n",
       "   6 │ 207       0.001      0.05      0.8     0.0\n",
       "   7 │ 208       0.002      0.07      2.1     0.0\n",
       "   8 │ 209       0.001      0.05      1.5     0.0\n",
       "   9 │ 211       0.001      0.05      1.8     0.0\n",
       "  10 │ 213       0.002      0.07      1.7     0.05\n",
       "  11 │ 214      -0.0005     0.05     -0.1     0.0\n",
       "  ⋮  │    ⋮        ⋮        ⋮        ⋮        ⋮\n",
       "  16 │ 220       0.0015     0.05      1.3     0.05\n",
       "  17 │ 222       0.001      0.05      1.1     0.0\n",
       "  18 │ 223       0.0015     0.05      1.1     0.0\n",
       "  19 │ 224       0.0025     0.07      1.1     0.0\n",
       "  20 │ 225       0.003      0.05      1.2     0.0\n",
       "  21 │ 227       0.001      0.05      1.2     0.0\n",
       "  22 │ 229       0.001      0.05      1.1     0.0\n",
       "  23 │ 230       0.0005     0.05      1.1     0.0\n",
       "  24 │ 231       0.0005     0.05      1.3     0.0\n",
       "  25 │ 232       0.002      0.07      1.9     0.05\n",
       "\u001b[36m                                     4 rows omitted\u001b[0m, 13174.95974184011)"
      ]
     },
     "execution_count": 37,
     "metadata": {},
     "output_type": "execute_result"
    }
   ],
   "source": [
    "dGrid = Any[]\n",
    "σGrid = Any[]\n",
    "θGrid = Any[]\n",
    "bGrid = Any[]\n",
    "\n",
    "ind = 1\n",
    "for subject in collect(keys(dataLoss))\n",
    "\n",
    "    d = dfLoss_LowRes[(dfLoss_LowRes.subject .== subject), \"d\"][1]\n",
    "    σ = dfLoss_LowRes[(dfLoss_LowRes.subject .== subject), \"s\"][1]\n",
    "    θ = dfLoss_LowRes[(dfLoss_LowRes.subject .== subject), \"t\"][1]\n",
    "    b = dfLoss_LowRes[(dfLoss_LowRes.subject .== subject), \"b\"][1]\n",
    "\n",
    "    dLow = d-(dStepSize1/2);\n",
    "    dHigh = d+(dStepSize1/2);\n",
    "    σLow = max(0.001, σ-(σStepSize1/2));\n",
    "    σHigh = σ+(σStepSize1/2);\n",
    "    θLow = θ-(θStepSize1/2);\n",
    "    θHigh = θ+(θStepSize1/2);\n",
    "    bLow = max(-.99, b-(bStepSize1/2));\n",
    "    bHigh = min(.99, b+(bStepSize1/2));\n",
    "\n",
    "    push!(dGrid, [dLow:dStepSize2:dHigh;])\n",
    "    push!(σGrid, [σLow:σStepSize2:σHigh;])    \n",
    "    push!(θGrid, [θLow:θStepSize2:θHigh;])           \n",
    "    push!(bGrid, [bLow:bStepSize2:bHigh;])  \n",
    "\n",
    "    ind += 1\n",
    "\n",
    "end\n",
    "\n",
    "dfLoss_MedRes, NLL = fit_aDDM_custom_resolution(addm, dataLoss, dGrid, σGrid, θGrid, bGrid, subjectCount)"
   ]
  },
  {
   "cell_type": "code",
   "execution_count": null,
   "metadata": {},
   "outputs": [],
   "source": [
    "\"\"\"\n",
    "ind = 1\n",
    "\n",
    "@showprogress for subject in collect(keys(data))\n",
    "\n",
    "    d = dfLoss_LowRes[(dfLoss_LowRes.subject .== subject), \"d\"][1]\n",
    "    σ = dfLoss_LowRes[(dfLoss_LowRes.subject .== subject), \"s\"][1]\n",
    "    θ = dfLoss_LowRes[(dfLoss_LowRes.subject .== subject), \"t\"][1]\n",
    "    b = dfLoss_LowRes[(dfLoss_LowRes.subject .== subject), \"b\"][1]\n",
    "\n",
    "    dLow = d-(dStepSize1/2);\n",
    "    dHigh = d+(dStepSize1/2);\n",
    "    σLow = max(0.001, σ-(σStepSize1/2));\n",
    "    σHigh = σ+(σStepSize1/2);\n",
    "    θLow = θ-(θStepSize1/2);\n",
    "    θHigh = θ+(θStepSize1/2);\n",
    "    bLow = max(-.99, b-(bStepSize1/2));\n",
    "    bHigh = min(.99, b+(bStepSize1/2));\n",
    "\n",
    "    dGrid = [dLow:dStepSize2:dHigh;]      \n",
    "    σGrid = [σLow:σStepSize2:σHigh;]    \n",
    "    θGrid = [θLow:θStepSize2:θHigh;]           \n",
    "    bGrid = [bLow:bStepSize2:bHigh;]       \n",
    "\n",
    "    print(\"How many likelihoods to calculate: \")\n",
    "    print(length(dGrid)*length(σGrid)*length(θGrid)*length(bGrid))\n",
    "\n",
    "    dEst, σEst, θEst, bEst, NLL = aDDM_grid_search(addm, data, dGrid, σGrid, θGrid, bGrid, subject)\n",
    "  \n",
    "    dList[ind] = dEst[1]\n",
    "    σList[ind] = σEst[1]\n",
    "    θList[ind] = θEst[1]\n",
    "    bList[ind] = bEst[1]\n",
    "    NLLsList[ind] = NLL\n",
    "    ind += 1\n",
    "  \n",
    "  end\n",
    "\n",
    "dfLoss_MedRes = DataFrame(\n",
    "  subject = collect(keys(data)),\n",
    "  d = dList,\n",
    "  s = σList,\n",
    "  t = θList,\n",
    "  b = bList\n",
    ")\n",
    "dfLoss_MedRes = sort(dfLoss_MedRes, :subject)\n",
    "NLLLoss_MedRes = sum(NLLsList)\n",
    "println(NLLLoss_MedRes)\n",
    "dfLoss_MedRes\n",
    "\"\"\""
   ]
  },
  {
   "cell_type": "markdown",
   "metadata": {},
   "source": [
    "### High resolution grid search\n",
    "15 mins"
   ]
  },
  {
   "cell_type": "code",
   "execution_count": 38,
   "metadata": {},
   "outputs": [
    {
     "name": "stdout",
     "output_type": "stream",
     "text": [
      "Approx how many likelihoods to calculate per subject: 1188"
     ]
    },
    {
     "name": "stderr",
     "output_type": "stream",
     "text": [
      "\u001b[32mProgress:  32%|█████████████▏                           |  ETA: 0:23:23\u001b[39m"
     ]
    },
    {
     "ename": "LoadError",
     "evalue": "TaskFailedException\n\n\u001b[91m    nested task error: \u001b[39mInterruptException:\n    Stacktrace:\n     [1] \u001b[0m\u001b[1mbroadcasted\u001b[22m\n    \u001b[90m   @\u001b[39m \u001b[90m./\u001b[39m\u001b[90m\u001b[4mbroadcast.jl:1319\u001b[24m\u001b[39m\u001b[90m [inlined]\u001b[39m\n     [2] \u001b[0m\u001b[1mbroadcasted\u001b[22m\u001b[0m\u001b[1m(\u001b[22m::\u001b[0mFunction, ::\u001b[0mBase.Broadcast.Broadcasted\u001b[90m{Base.Broadcast.DefaultArrayStyle{1}, Nothing, typeof(>=), Tuple{StepRangeLen{Float64, Base.TwicePrecision{Float64}, Base.TwicePrecision{Float64}, Int64}, Int64}}\u001b[39m, ::\u001b[0mBase.Broadcast.Broadcasted\u001b[90m{Base.Broadcast.DefaultArrayStyle{1}, Nothing, typeof(<=), Tuple{StepRangeLen{Float64, Base.TwicePrecision{Float64}, Base.TwicePrecision{Float64}, Int64}, Int64}}\u001b[39m\u001b[0m\u001b[1m)\u001b[22m\n    \u001b[90m   @\u001b[39m \u001b[90mBase.Broadcast\u001b[39m \u001b[90m./\u001b[39m\u001b[90m\u001b[4mbroadcast.jl:1317\u001b[24m\u001b[39m\n     [3] \u001b[0m\u001b[1maDDM_get_trial_likelihood\u001b[22m\u001b[0m\u001b[1m(\u001b[22m\u001b[90maddm\u001b[39m::\u001b[0maDDM, \u001b[90mtrial\u001b[39m::\u001b[0maDDMTrial; \u001b[90mtimeStep\u001b[39m::\u001b[0mFloat64, \u001b[90mapproxStateStep\u001b[39m::\u001b[0mFloat64, \u001b[90mplotTrial\u001b[39m::\u001b[0mBool, \u001b[90mdecay\u001b[39m::\u001b[0mFloat64\u001b[0m\u001b[1m)\u001b[22m\n    \u001b[90m   @\u001b[39m \u001b[35mMain\u001b[39m \u001b[90m~/Toolboxes/ADDM.jl/src/\u001b[39m\u001b[90m\u001b[4maddm.jl:282\u001b[24m\u001b[39m\n     [4] \u001b[0m\u001b[1maDDM_get_trial_likelihood\u001b[22m\n    \u001b[90m   @\u001b[39m \u001b[90m~/Toolboxes/ADDM.jl/src/\u001b[39m\u001b[90m\u001b[4maddm.jl:149\u001b[24m\u001b[39m\u001b[90m [inlined]\u001b[39m\n     [5] \u001b[0m\u001b[1mmacro expansion\u001b[22m\n    \u001b[90m   @\u001b[39m \u001b[90m~/Toolboxes/ADDM.jl/src/\u001b[39m\u001b[90m\u001b[4maddm.jl:597\u001b[24m\u001b[39m\u001b[90m [inlined]\u001b[39m\n     [6] \u001b[0m\u001b[1m(::var\"#133#threadsfor_fun#84\"{var\"#133#threadsfor_fun#83#85\"{aDDM, Vector{aDDMTrial}, UnitRange{Int64}}})\u001b[22m\u001b[0m\u001b[1m(\u001b[22m\u001b[90mtid\u001b[39m::\u001b[0mInt64; \u001b[90monethread\u001b[39m::\u001b[0mBool\u001b[0m\u001b[1m)\u001b[22m\n    \u001b[90m   @\u001b[39m \u001b[35mMain\u001b[39m \u001b[90m./\u001b[39m\u001b[90m\u001b[4mthreadingconstructs.jl:200\u001b[24m\u001b[39m\n     [7] \u001b[0m\u001b[1m#133#threadsfor_fun\u001b[22m\n    \u001b[90m   @\u001b[39m \u001b[90m./\u001b[39m\u001b[90m\u001b[4mthreadingconstructs.jl:167\u001b[24m\u001b[39m\u001b[90m [inlined]\u001b[39m\n     [8] \u001b[0m\u001b[1m(::Base.Threads.var\"#1#2\"{var\"#133#threadsfor_fun#84\"{var\"#133#threadsfor_fun#83#85\"{aDDM, Vector{aDDMTrial}, UnitRange{Int64}}}, Int64})\u001b[22m\u001b[0m\u001b[1m(\u001b[22m\u001b[0m\u001b[1m)\u001b[22m\n    \u001b[90m   @\u001b[39m \u001b[90mBase.Threads\u001b[39m \u001b[90m./\u001b[39m\u001b[90m\u001b[4mthreadingconstructs.jl:139\u001b[24m\u001b[39m",
     "output_type": "error",
     "traceback": [
      "TaskFailedException\n\n\u001b[91m    nested task error: \u001b[39mInterruptException:\n    Stacktrace:\n     [1] \u001b[0m\u001b[1mbroadcasted\u001b[22m\n    \u001b[90m   @\u001b[39m \u001b[90m./\u001b[39m\u001b[90m\u001b[4mbroadcast.jl:1319\u001b[24m\u001b[39m\u001b[90m [inlined]\u001b[39m\n     [2] \u001b[0m\u001b[1mbroadcasted\u001b[22m\u001b[0m\u001b[1m(\u001b[22m::\u001b[0mFunction, ::\u001b[0mBase.Broadcast.Broadcasted\u001b[90m{Base.Broadcast.DefaultArrayStyle{1}, Nothing, typeof(>=), Tuple{StepRangeLen{Float64, Base.TwicePrecision{Float64}, Base.TwicePrecision{Float64}, Int64}, Int64}}\u001b[39m, ::\u001b[0mBase.Broadcast.Broadcasted\u001b[90m{Base.Broadcast.DefaultArrayStyle{1}, Nothing, typeof(<=), Tuple{StepRangeLen{Float64, Base.TwicePrecision{Float64}, Base.TwicePrecision{Float64}, Int64}, Int64}}\u001b[39m\u001b[0m\u001b[1m)\u001b[22m\n    \u001b[90m   @\u001b[39m \u001b[90mBase.Broadcast\u001b[39m \u001b[90m./\u001b[39m\u001b[90m\u001b[4mbroadcast.jl:1317\u001b[24m\u001b[39m\n     [3] \u001b[0m\u001b[1maDDM_get_trial_likelihood\u001b[22m\u001b[0m\u001b[1m(\u001b[22m\u001b[90maddm\u001b[39m::\u001b[0maDDM, \u001b[90mtrial\u001b[39m::\u001b[0maDDMTrial; \u001b[90mtimeStep\u001b[39m::\u001b[0mFloat64, \u001b[90mapproxStateStep\u001b[39m::\u001b[0mFloat64, \u001b[90mplotTrial\u001b[39m::\u001b[0mBool, \u001b[90mdecay\u001b[39m::\u001b[0mFloat64\u001b[0m\u001b[1m)\u001b[22m\n    \u001b[90m   @\u001b[39m \u001b[35mMain\u001b[39m \u001b[90m~/Toolboxes/ADDM.jl/src/\u001b[39m\u001b[90m\u001b[4maddm.jl:282\u001b[24m\u001b[39m\n     [4] \u001b[0m\u001b[1maDDM_get_trial_likelihood\u001b[22m\n    \u001b[90m   @\u001b[39m \u001b[90m~/Toolboxes/ADDM.jl/src/\u001b[39m\u001b[90m\u001b[4maddm.jl:149\u001b[24m\u001b[39m\u001b[90m [inlined]\u001b[39m\n     [5] \u001b[0m\u001b[1mmacro expansion\u001b[22m\n    \u001b[90m   @\u001b[39m \u001b[90m~/Toolboxes/ADDM.jl/src/\u001b[39m\u001b[90m\u001b[4maddm.jl:597\u001b[24m\u001b[39m\u001b[90m [inlined]\u001b[39m\n     [6] \u001b[0m\u001b[1m(::var\"#133#threadsfor_fun#84\"{var\"#133#threadsfor_fun#83#85\"{aDDM, Vector{aDDMTrial}, UnitRange{Int64}}})\u001b[22m\u001b[0m\u001b[1m(\u001b[22m\u001b[90mtid\u001b[39m::\u001b[0mInt64; \u001b[90monethread\u001b[39m::\u001b[0mBool\u001b[0m\u001b[1m)\u001b[22m\n    \u001b[90m   @\u001b[39m \u001b[35mMain\u001b[39m \u001b[90m./\u001b[39m\u001b[90m\u001b[4mthreadingconstructs.jl:200\u001b[24m\u001b[39m\n     [7] \u001b[0m\u001b[1m#133#threadsfor_fun\u001b[22m\n    \u001b[90m   @\u001b[39m \u001b[90m./\u001b[39m\u001b[90m\u001b[4mthreadingconstructs.jl:167\u001b[24m\u001b[39m\u001b[90m [inlined]\u001b[39m\n     [8] \u001b[0m\u001b[1m(::Base.Threads.var\"#1#2\"{var\"#133#threadsfor_fun#84\"{var\"#133#threadsfor_fun#83#85\"{aDDM, Vector{aDDMTrial}, UnitRange{Int64}}}, Int64})\u001b[22m\u001b[0m\u001b[1m(\u001b[22m\u001b[0m\u001b[1m)\u001b[22m\n    \u001b[90m   @\u001b[39m \u001b[90mBase.Threads\u001b[39m \u001b[90m./\u001b[39m\u001b[90m\u001b[4mthreadingconstructs.jl:139\u001b[24m\u001b[39m",
      "",
      "Stacktrace:",
      "  [1] threading_run(fun::var\"#133#threadsfor_fun#84\"{var\"#133#threadsfor_fun#83#85\"{aDDM, Vector{aDDMTrial}, UnitRange{Int64}}}, static::Bool)",
      "    @ Base.Threads ./threadingconstructs.jl:157",
      "  [2] macro expansion",
      "    @ ./threadingconstructs.jl:205 [inlined]",
      "  [3] aDDM_negative_log_likelihood_threads(addm::aDDM, addmTrials::Vector{aDDMTrial}, d::Float64, σ::Float64, θ::Float64, b::Float64)",
      "    @ Main ~/Toolboxes/ADDM.jl/src/addm.jl:596",
      "  [4] #100",
      "    @ ./essentials.jl:0 [inlined]",
      "  [5] iterate",
      "    @ ./generator.jl:47 [inlined]",
      "  [6] collect_to!(dest::Array{Float64, 4}, itr::Base.Generator{Array{NTuple{4, Float64}, 4}, var\"#100#102\"{aDDM, Dict{String, Vector{aDDMTrial}}, String}}, offs::Int64, st::Int64)",
      "    @ Base ./array.jl:840",
      "  [7] collect_to_with_first!(dest::Array{Float64, 4}, v1::Float64, itr::Base.Generator{Array{NTuple{4, Float64}, 4}, var\"#100#102\"{aDDM, Dict{String, Vector{aDDMTrial}}, String}}, st::Int64)",
      "    @ Base ./array.jl:818",
      "  [8] collect(itr::Base.Generator{Array{NTuple{4, Float64}, 4}, var\"#100#102\"{aDDM, Dict{String, Vector{aDDMTrial}}, String}})",
      "    @ Base ./array.jl:792",
      "  [9] aDDM_grid_search(addm::aDDM, addmTrials::Dict{String, Vector{aDDMTrial}}, dList::Vector{Float64}, σList::Vector{Float64}, θList::Vector{Float64}, bList::Vector{Float64}, subject::String)",
      "    @ Main ~/Toolboxes/ADDM.jl/src/addm_grid_search.jl:48",
      " [10] macro expansion",
      "    @ ./In[34]:17 [inlined]",
      " [11] macro expansion",
      "    @ ~/.julia/packages/ProgressMeter/Z4hZi/src/ProgressMeter.jl:954 [inlined]",
      " [12] fit_aDDM_custom_resolution(addm::aDDM, data::Dict{String, Vector{aDDMTrial}}, dGrid::Vector{Any}, σGrid::Vector{Any}, θGrid::Vector{Any}, bGrid::Vector{Any}, subjectCount::Int64)",
      "    @ Main ./In[34]:15",
      " [13] top-level scope",
      "    @ In[38]:32"
     ]
    }
   ],
   "source": [
    "dGrid = Any[]\n",
    "σGrid = Any[]\n",
    "θGrid = Any[]\n",
    "bGrid = Any[]\n",
    "\n",
    "ind = 1\n",
    "for subject in collect(keys(dataLoss))\n",
    "\n",
    "    d = dfLoss_LowRes[(dfLoss_LowRes.subject .== subject), \"d\"][1]\n",
    "    σ = dfLoss_LowRes[(dfLoss_LowRes.subject .== subject), \"s\"][1]\n",
    "    θ = dfLoss_LowRes[(dfLoss_LowRes.subject .== subject), \"t\"][1]\n",
    "    b = dfLoss_LowRes[(dfLoss_LowRes.subject .== subject), \"b\"][1]\n",
    "\n",
    "    dLow = d-(dStepSize2/2);\n",
    "    dHigh = d+(dStepSize2/2);\n",
    "    σLow = max(0.001, σ-(σStepSize2/2));\n",
    "    σHigh = σ+(σStepSize2/2);\n",
    "    θLow = θ-(θStepSize2/2);\n",
    "    θHigh = θ+(θStepSize2/2);\n",
    "    bLow = max(-.99, b-(bStepSize2/2));\n",
    "    bHigh = min(.99, b+(bStepSize2/2));\n",
    "\n",
    "    push!(dGrid, [dLow:dStepSize3:dHigh;])\n",
    "    push!(σGrid, [σLow:σStepSize3:σHigh;])    \n",
    "    push!(θGrid, [θLow:θStepSize3:θHigh;])           \n",
    "    push!(bGrid, [bLow:bStepSize3:bHigh;])  \n",
    "\n",
    "    ind += 1\n",
    "\n",
    "end\n",
    "\n",
    "dfLoss_HiRes, NLL = fit_aDDM_custom_resolution(addm, dataLoss, dGrid, σGrid, θGrid, bGrid, subjectCount)"
   ]
  },
  {
   "cell_type": "code",
   "execution_count": null,
   "metadata": {},
   "outputs": [],
   "source": [
    "\"\"\"\n",
    "ind = 1\n",
    "\n",
    "@showprogress for subject in collect(keys(data))\n",
    "\n",
    "    d = dfLoss_MedRes[(dfLoss_MedRes.subject .== subject), \"d\"][1]\n",
    "    σ = dfLoss_MedRes[(dfLoss_MedRes.subject .== subject), \"s\"][1]\n",
    "    θ = dfLoss_MedRes[(dfLoss_MedRes.subject .== subject), \"t\"][1]\n",
    "    b = dfLoss_MedRes[(dfLoss_MedRes.subject .== subject), \"b\"][1]\n",
    "\n",
    "    dLow = d-(dStepSize2/2);\n",
    "    dHigh = d+(dStepSize2/2);\n",
    "    σLow = max(0.001, σ-(σStepSize2/2));\n",
    "    σHigh = σ+(σStepSize2/2);\n",
    "    θLow = θ-(θStepSize2/2);\n",
    "    θHigh = θ+(θStepSize2/2);\n",
    "    bLow = max(-.99, b-(bStepSize2/2));\n",
    "    bHigh = min(.99, b+(bStepSize2/2));\n",
    "\n",
    "    dGrid = [dLow:dStepSize3:dHigh;]      \n",
    "    σGrid = [σLow:σStepSize3:σHigh;]    \n",
    "    θGrid = [θLow:θStepSize3:θHigh;]           \n",
    "    bGrid = [bLow:bStepSize3:bHigh;]  \n",
    "\n",
    "    print(\"How many likelihoods to calculate: \")\n",
    "    print(length(dGrid)*length(σGrid)*length(θGrid)*length(bGrid))\n",
    "\n",
    "    dEst, σEst, θEst, bEst, NLL = aDDM_grid_search(addm, data, dGrid, σGrid, θGrid, bGrid, subject)\n",
    "  \n",
    "    dList[ind] = dEst[1]\n",
    "    σList[ind] = σEst[1]\n",
    "    θList[ind] = θEst[1]\n",
    "    bList[ind] = bEst[1]\n",
    "    NLLsList[ind] = NLL\n",
    "    ind += 1\n",
    "  \n",
    "  end\n",
    "\n",
    "dfLoss_HiRes = DataFrame(\n",
    "  subject = collect(keys(data)),\n",
    "  d = round.(dList; digits=4),\n",
    "  s = round.(σList; digits=2),\n",
    "  t = round.(θList; digits=2),\n",
    "  b = round.(bList; digits=2)\n",
    ")\n",
    "dfLoss_HiRes = sort(dfLoss_HiRes, :subject)\n",
    "NLLLoss_HiRes = sum(NLLsList)\n",
    "println(NLLLoss_HiRes)\n",
    "CSV.write(\"LossFit.csv\", dfLoss_HiRes)\n",
    "dfLoss_HiRes\n",
    "\"\"\""
   ]
  }
 ],
 "metadata": {
  "kernelspec": {
   "display_name": "Julia 1.9.3",
   "language": "julia",
   "name": "julia-1.9"
  },
  "language_info": {
   "file_extension": ".jl",
   "mimetype": "application/julia",
   "name": "julia",
   "version": "1.9.3"
  },
  "orig_nbformat": 4
 },
 "nbformat": 4,
 "nbformat_minor": 2
}
