{
 "cells": [
  {
   "cell_type": "markdown",
   "metadata": {},
   "source": [
    "# Activate environment"
   ]
  },
  {
   "cell_type": "markdown",
   "metadata": {},
   "source": [
    "Typically this happens by\n",
    "\n",
    "```\n",
    "using Pkg\n",
    "Pkg.activate(\"addm\")\n",
    "```\n",
    "\n",
    "**Note that single vs. double quotes matter.**\n",
    "\n",
    "But this does not work as expected in a notebook unless the `Project.toml` is in the same folder as the notebook file."
   ]
  },
  {
   "cell_type": "code",
   "execution_count": 25,
   "metadata": {},
   "outputs": [
    {
     "data": {
      "text/plain": [
       "\"/Users/brenden/Toolboxes/ADDM.jl/docs/src\""
      ]
     },
     "execution_count": 25,
     "metadata": {},
     "output_type": "execute_result"
    }
   ],
   "source": [
    "pwd()"
   ]
  },
  {
   "cell_type": "markdown",
   "metadata": {},
   "source": [
    "Above is the directory where the notebook is located and below is the search path for packages before activating the `addm` environment."
   ]
  },
  {
   "cell_type": "code",
   "execution_count": 26,
   "metadata": {},
   "outputs": [
    {
     "data": {
      "text/plain": [
       "3-element Vector{String}:\n",
       " \"/Users/brenden/Toolboxes/ADDM.jl/docs/src/addm/Project.toml\"\n",
       " \"/Users/brenden/.julia/environments/v1.9/Project.toml\"\n",
       " \"/opt/homebrew/Cellar/julia/1.9.3/share/julia/stdlib/v1.9\""
      ]
     },
     "execution_count": 26,
     "metadata": {},
     "output_type": "execute_result"
    }
   ],
   "source": [
    "Base.load_path()"
   ]
  },
  {
   "cell_type": "markdown",
   "metadata": {},
   "source": [
    "To be safe I currently have the environment activation in each script but this should be cleaned up at some point."
   ]
  },
  {
   "cell_type": "code",
   "execution_count": 27,
   "metadata": {},
   "outputs": [
    {
     "name": "stderr",
     "output_type": "stream",
     "text": [
      "\u001b[32m\u001b[1m  Activating\u001b[22m\u001b[39m project at `~/Toolboxes/ADDM.jl/docs/src/addm`\n"
     ]
    },
    {
     "name": "stderr",
     "output_type": "stream",
     "text": [
      "\u001b[32m\u001b[1m  Activating\u001b[22m\u001b[39m project at `~/Toolboxes/ADDM.jl/docs/src/addm`\n",
      "\u001b[32m\u001b[1m  Activating\u001b[22m\u001b[39m project at `~/Toolboxes/ADDM.jl/docs/src/addm`\n",
      "\u001b[32m\u001b[1m  Activating\u001b[22m\u001b[39m project at `~/Toolboxes/ADDM.jl/docs/src/addm`\n",
      "\u001b[32m\u001b[1m  Activating\u001b[22m\u001b[39m project at `~/Toolboxes/ADDM.jl/docs/src/addm`\n",
      "\u001b[32m\u001b[1m  Activating\u001b[22m\u001b[39m project at `~/Toolboxes/ADDM.jl/docs/src/addm`\n"
     ]
    },
    {
     "data": {
      "text/plain": [
       "aDDM_grid_search (generic function with 1 method)"
      ]
     },
     "execution_count": 27,
     "metadata": {},
     "output_type": "execute_result"
    }
   ],
   "source": [
    "include(\"../../src/addm_grid_search.jl\")"
   ]
  },
  {
   "cell_type": "markdown",
   "metadata": {},
   "source": [
    "Package search path after environment activation."
   ]
  },
  {
   "cell_type": "code",
   "execution_count": 28,
   "metadata": {},
   "outputs": [
    {
     "data": {
      "text/plain": [
       "3-element Vector{String}:\n",
       " \"/Users/brenden/Toolboxes/ADDM.jl/docs/src/addm/Project.toml\"\n",
       " \"/Users/brenden/.julia/environments/v1.9/Project.toml\"\n",
       " \"/opt/homebrew/Cellar/julia/1.9.3/share/julia/stdlib/v1.9\""
      ]
     },
     "execution_count": 28,
     "metadata": {},
     "output_type": "execute_result"
    }
   ],
   "source": [
    "Base.load_path()"
   ]
  },
  {
   "cell_type": "markdown",
   "metadata": {},
   "source": [
    "# Fit aDDM to simulated data"
   ]
  },
  {
   "cell_type": "markdown",
   "metadata": {},
   "source": [
    "Specify grid space and number of datasets"
   ]
  },
  {
   "cell_type": "code",
   "execution_count": 29,
   "metadata": {},
   "outputs": [],
   "source": [
    "dLow = .003;\n",
    "dHigh = .007;\n",
    "σLow = .05;\n",
    "σHigh = .09;\n",
    "θLow = .1;\n",
    "θHigh = .5;\n",
    "gridSize = 3;\n",
    "n = 1;\n",
    "trials = 340;"
   ]
  },
  {
   "cell_type": "code",
   "execution_count": 33,
   "metadata": {},
   "outputs": [],
   "source": [
    "dTrue = 0.005;\n",
    "σTrue = 0.07;\n",
    "θTrue = 0.3;\n",
    "\n",
    "addm = aDDM(dTrue, σTrue, θTrue);\n",
    "data = load_data_from_csv(\"../../data/expdata.csv\", \"../../data/fixations.csv\", convertItemValues=nothing);\n",
    "using CSV\n",
    "CSV.write(\"data.csv\", data)\n",
    "fixationData = get_empirical_distributions(data, fixDistType=\"simple\");\n"
   ]
  },
  {
   "cell_type": "code",
   "execution_count": 31,
   "metadata": {},
   "outputs": [],
   "source": [
    "dList = LinRange(dLow, dHigh, gridSize);\n",
    "σList = LinRange(σLow, σHigh, gridSize);\n",
    "θList = LinRange(θLow, θHigh, gridSize);"
   ]
  },
  {
   "cell_type": "code",
   "execution_count": 32,
   "metadata": {},
   "outputs": [
    {
     "name": "stdout",
     "output_type": "stream",
     "text": [
      "obtained MLE parameters\n",
      " 14.111422 seconds (151.94 M allocations: 13.879 GiB, 10.68% gc time, 1.15% compilation time)\n",
      "d: [0.005]\n",
      "σ: [0.07]\n",
      "θ: [0.3]\n"
     ]
    }
   ],
   "source": [
    "@time begin\n",
    "  dMLEList, σMLEList, θMLEList = aDDM_grid_search(addm, fixationData, dList, σList, θList, n, trials)\n",
    "  #NNL: dMLEList, σMLEList, θMLEList, NNL_List = aDDM_grid_search(addm, fixationData, dList, σList, θList, n)\n",
    "end\n",
    "\n",
    "println(\"d: \", dMLEList)\n",
    "println(\"σ: \", σMLEList)\n",
    "println(\"θ: \", θMLEList)\n",
    "#NNL: println(\"NNL: \", NNL_List)"
   ]
  }
 ],
 "metadata": {
  "kernelspec": {
   "display_name": "Julia 1.9.3",
   "language": "julia",
   "name": "julia-1.9"
  },
  "language_info": {
   "file_extension": ".jl",
   "mimetype": "application/julia",
   "name": "julia",
   "version": "1.9.3"
  },
  "orig_nbformat": 4
 },
 "nbformat": 4,
 "nbformat_minor": 2
}
