{
 "cells": [
  {
   "cell_type": "markdown",
   "metadata": {},
   "source": [
    "# Installation"
   ]
  },
  {
   "cell_type": "markdown",
   "metadata": {},
   "source": [
    "# Usage"
   ]
  },
  {
   "cell_type": "code",
   "execution_count": null,
   "metadata": {},
   "outputs": [],
   "source": [
    "# This keeps the name space cleaner than \"using addm\"\n",
    "# import addm "
   ]
  },
  {
   "cell_type": "code",
   "execution_count": null,
   "metadata": {},
   "outputs": [],
   "source": [
    "# my_addm = addm.define_model(d = 0.005, σ = 0.07, θ = 0.3)\n",
    "\n",
    "# sim_data = addm.simulate_trials(n = 1000, model = my_addm)\n",
    "\n",
    "# addm.grid_search(model = my_addm, data = sim_data, search_grid = \"path/to/file\")\n",
    "# Beginning grid search..."
   ]
  }
 ],
 "metadata": {
  "kernelspec": {
   "display_name": "Julia 1.9.3",
   "language": "julia",
   "name": "julia-1.9"
  },
  "language_info": {
   "name": "julia"
  }
 },
 "nbformat": 4,
 "nbformat_minor": 2
}
