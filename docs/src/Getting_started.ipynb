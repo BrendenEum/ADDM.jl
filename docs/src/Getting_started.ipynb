{
 "cells": [
  {
   "cell_type": "markdown",
   "metadata": {},
   "source": [
    "# Activate environment"
   ]
  },
  {
   "cell_type": "markdown",
   "metadata": {},
   "source": [
    "Typically this happens by\n",
    "\n",
    "```\n",
    "using Pkg\n",
    "Pkg.activate(\"addm\")\n",
    "```\n",
    "\n",
    "**Note that single vs. double quotes matter.**\n",
    "\n",
    "But this does not work as expected in a notebook unless the `Project.toml` is in the same folder as the notebook file."
   ]
  },
  {
   "cell_type": "code",
   "execution_count": 4,
   "metadata": {},
   "outputs": [
    {
     "data": {
      "text/plain": [
       "\"/Users/brenden/Toolboxes/ADDM.jl/docs/src\""
      ]
     },
     "execution_count": 4,
     "metadata": {},
     "output_type": "execute_result"
    }
   ],
   "source": [
    "pwd()"
   ]
  },
  {
   "cell_type": "markdown",
   "metadata": {},
   "source": [
    "Above is the directory where the notebook is located and below is the search path for packages before activating the `addm` environment."
   ]
  },
  {
   "cell_type": "code",
   "execution_count": 5,
   "metadata": {},
   "outputs": [
    {
     "data": {
      "text/plain": [
       "3-element Vector{String}:\n",
       " \"/Users/brenden/Toolboxes/ADDM.jl/docs/src/addm/Project.toml\"\n",
       " \"/Users/brenden/.julia/environments/v1.9/Project.toml\"\n",
       " \"/opt/homebrew/Cellar/julia/1.9.3/share/julia/stdlib/v1.9\""
      ]
     },
     "execution_count": 5,
     "metadata": {},
     "output_type": "execute_result"
    }
   ],
   "source": [
    "Base.load_path()"
   ]
  },
  {
   "cell_type": "markdown",
   "metadata": {},
   "source": [
    "To be safe I currently have the environment activation in each script but this should be cleaned up at some point."
   ]
  },
  {
   "cell_type": "code",
   "execution_count": 6,
   "metadata": {},
   "outputs": [
    {
     "name": "stderr",
     "output_type": "stream",
     "text": [
      "\u001b[32m\u001b[1m  Activating\u001b[22m\u001b[39m project at `~/Toolboxes/ADDM.jl/docs/src/addm`\n",
      "\u001b[32m\u001b[1m  Activating\u001b[22m\u001b[39m project at `~/Toolboxes/ADDM.jl/docs/src/addm`\n",
      "\u001b[32m\u001b[1m  Activating\u001b[22m\u001b[39m project at `~/Toolboxes/ADDM.jl/docs/src/addm`\n",
      "\u001b[32m\u001b[1m  Activating\u001b[22m\u001b[39m project at `~/Toolboxes/ADDM.jl/docs/src/addm`\n",
      "\u001b[32m\u001b[1m  Activating\u001b[22m\u001b[39m project at `~/Toolboxes/ADDM.jl/docs/src/addm`\n",
      "\u001b[32m\u001b[1m  Activating\u001b[22m\u001b[39m project at `~/Toolboxes/ADDM.jl/docs/src/addm`\n"
     ]
    },
    {
     "data": {
      "text/plain": [
       "aDDM_grid_search (generic function with 1 method)"
      ]
     },
     "execution_count": 6,
     "metadata": {},
     "output_type": "execute_result"
    }
   ],
   "source": [
    "include(\"../../src/addm_grid_search.jl\")"
   ]
  },
  {
   "cell_type": "markdown",
   "metadata": {},
   "source": [
    "Package search path after environment activation."
   ]
  },
  {
   "cell_type": "code",
   "execution_count": 7,
   "metadata": {},
   "outputs": [
    {
     "data": {
      "text/plain": [
       "3-element Vector{String}:\n",
       " \"/Users/brenden/Toolboxes/ADDM.jl/docs/src/addm/Project.toml\"\n",
       " \"/Users/brenden/.julia/environments/v1.9/Project.toml\"\n",
       " \"/opt/homebrew/Cellar/julia/1.9.3/share/julia/stdlib/v1.9\""
      ]
     },
     "execution_count": 7,
     "metadata": {},
     "output_type": "execute_result"
    }
   ],
   "source": [
    "Base.load_path()"
   ]
  },
  {
   "cell_type": "markdown",
   "metadata": {},
   "source": [
    "# Fit aDDM to simulated data"
   ]
  },
  {
   "cell_type": "markdown",
   "metadata": {},
   "source": [
    "Specify grid space and number of datasets"
   ]
  },
  {
   "cell_type": "code",
   "execution_count": 8,
   "metadata": {},
   "outputs": [],
   "source": [
    "dLow = .003;\n",
    "dHigh = .007;\n",
    "σLow = .05;\n",
    "σHigh = .09;\n",
    "θLow = .1;\n",
    "θHigh = .5;\n",
    "gridSize = 3;\n",
    "n = 1;\n"
   ]
  },
  {
   "cell_type": "code",
   "execution_count": 9,
   "metadata": {},
   "outputs": [],
   "source": [
    "\n",
    "dTrue = 0.005;\n",
    "σTrue = 0.07;\n",
    "θTrue = 0.3;\n",
    "\n",
    "addm = aDDM(dTrue, σTrue, θTrue);\n",
    "data = load_data_from_csv(\"../../data/expdata.csv\", \"../../data/fixations.csv\", convertItemValues=convert_item_values);\n",
    "fixationData = get_empirical_distributions(data, fixDistType=\"simple\");\n"
   ]
  },
  {
   "cell_type": "code",
   "execution_count": 10,
   "metadata": {},
   "outputs": [],
   "source": [
    "dList = LinRange(dLow, dHigh, gridSize);\n",
    "σList = LinRange(σLow, σHigh, gridSize);\n",
    "θList = LinRange(θLow, θHigh, gridSize);"
   ]
  },
  {
   "cell_type": "code",
   "execution_count": 11,
   "metadata": {},
   "outputs": [
    {
     "name": "stdout",
     "output_type": "stream",
     "text": [
      "obtained MLE parameters\n",
      " 15.616900 seconds (158.73 M allocations: 14.873 GiB, 9.35% gc time, 7.73% compilation time)\n",
      "d: [0.005]\n",
      "σ: [0.07]\n",
      "θ: [0.3]\n"
     ]
    }
   ],
   "source": [
    "@time begin\n",
    "  dMLEList, σMLEList, θMLEList = aDDM_grid_search(addm, fixationData, dList, σList, θList, n)\n",
    "  #NNL: dMLEList, σMLEList, θMLEList, NNL_List = aDDM_grid_search(addm, fixationData, dList, σList, θList, n)\n",
    "end\n",
    "\n",
    "println(\"d: \", dMLEList)\n",
    "println(\"σ: \", σMLEList)\n",
    "println(\"θ: \", θMLEList)\n",
    "#NNL: println(\"NNL: \", NNL_List)"
   ]
  }
 ],
 "metadata": {
  "kernelspec": {
   "display_name": "Julia 1.9.3",
   "language": "julia",
   "name": "julia-1.9"
  },
  "language_info": {
   "file_extension": ".jl",
   "mimetype": "application/julia",
   "name": "julia",
   "version": "1.9.3"
  },
  "orig_nbformat": 4
 },
 "nbformat": 4,
 "nbformat_minor": 2
}
